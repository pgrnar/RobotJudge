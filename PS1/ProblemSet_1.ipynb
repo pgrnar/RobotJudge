{
 "cells": [
  {
   "cell_type": "markdown",
   "metadata": {},
   "source": [
    "# Problem Set 1"
   ]
  },
  {
   "cell_type": "code",
   "execution_count": 9,
   "metadata": {},
   "outputs": [],
   "source": [
    "import pandas as pd\n",
    "import spacy\n",
    "nlp = spacy.load('en')\n",
    "import glob, os\n",
    "from random import shuffle\n",
    "%matplotlib inline"
   ]
  },
  {
   "cell_type": "markdown",
   "metadata": {},
   "source": [
    "### Read files"
   ]
  },
  {
   "cell_type": "code",
   "execution_count": 10,
   "metadata": {},
   "outputs": [
    {
     "data": {
      "text/html": [
       "<div>\n",
       "<table border=\"1\" class=\"dataframe\">\n",
       "  <thead>\n",
       "    <tr style=\"text-align: right;\">\n",
       "      <th></th>\n",
       "      <th>id</th>\n",
       "      <th>text</th>\n",
       "    </tr>\n",
       "  </thead>\n",
       "  <tbody>\n",
       "    <tr>\n",
       "      <th>0</th>\n",
       "      <td>1924_X2S1O7.txt</td>\n",
       "      <td>ROSE , Circuit Judge. This is another sugar c...</td>\n",
       "    </tr>\n",
       "    <tr>\n",
       "      <th>1</th>\n",
       "      <td>1924_X2S1PK.txt</td>\n",
       "      <td>KENNEDY , District Judge. This is a suit in e...</td>\n",
       "    </tr>\n",
       "    <tr>\n",
       "      <th>2</th>\n",
       "      <td>1924_X2S1VV.txt</td>\n",
       "      <td>JOHNSON , District Judge. Appellees, hereinaf...</td>\n",
       "    </tr>\n",
       "    <tr>\n",
       "      <th>3</th>\n",
       "      <td>1924_X3OH3J.txt</td>\n",
       "      <td>JOHNSON , Circuit Judge. This is a patent inf...</td>\n",
       "    </tr>\n",
       "    <tr>\n",
       "      <th>4</th>\n",
       "      <td>1924_X53HAD.txt</td>\n",
       "      <td>ROGERS , Circuit Judge. The complainant is a ...</td>\n",
       "    </tr>\n",
       "  </tbody>\n",
       "</table>\n",
       "</div>"
      ],
      "text/plain": [
       "                id                                               text\n",
       "0  1924_X2S1O7.txt   ROSE , Circuit Judge. This is another sugar c...\n",
       "1  1924_X2S1PK.txt   KENNEDY , District Judge. This is a suit in e...\n",
       "2  1924_X2S1VV.txt   JOHNSON , District Judge. Appellees, hereinaf...\n",
       "3  1924_X3OH3J.txt   JOHNSON , Circuit Judge. This is a patent inf...\n",
       "4  1924_X53HAD.txt   ROGERS , Circuit Judge. The complainant is a ..."
      ]
     },
     "execution_count": 10,
     "metadata": {},
     "output_type": "execute_result"
    }
   ],
   "source": [
    "input_dir = 'RobotJudge/PS1/cases/'\n",
    "filenames = []\n",
    "textdata = []\n",
    "for pathname in sorted(glob.glob(os.path.join(input_dir, '*.txt'))):\n",
    "    with open(pathname, 'r') as txtfile:\n",
    "        filename = os.path.basename(pathname)\n",
    "        filenames.append(filename)\n",
    "        text = ' '.join(txtfile.read().splitlines())\n",
    "        textdata.append(text)\n",
    "\n",
    "df = pd.DataFrame({'id':filenames, 'text':textdata})\n",
    "df.head()"
   ]
  },
  {
   "cell_type": "code",
   "execution_count": 15,
   "metadata": {},
   "outputs": [
    {
     "name": "stdout",
     "output_type": "stream",
     "text": [
      "50\n"
     ]
    }
   ],
   "source": [
    "# shuffle and keep only tokeep samples\n",
    "tokeep=500\n",
    "keep = [True] * tokeep + [False] * (len(df) - tokeep)\n",
    "shuffle(keep)\n",
    "df = df[keep]\n",
    "print len(df)"
   ]
  },
  {
   "cell_type": "code",
   "execution_count": 16,
   "metadata": {},
   "outputs": [],
   "source": [
    "def spacyprocess(txt):\n",
    "    return nlp(txt.decode('utf-8')) # decode is needed because of python 2\n",
    "df['doc'] = df['text'].apply(spacyprocess)"
   ]
  },
  {
   "cell_type": "code",
   "execution_count": 5,
   "metadata": {},
   "outputs": [
    {
     "data": {
      "text/html": [
       "<div>\n",
       "<table border=\"1\" class=\"dataframe\">\n",
       "  <thead>\n",
       "    <tr style=\"text-align: right;\">\n",
       "      <th></th>\n",
       "      <th>id</th>\n",
       "      <th>text</th>\n",
       "      <th>doc</th>\n",
       "    </tr>\n",
       "  </thead>\n",
       "  <tbody>\n",
       "    <tr>\n",
       "      <th>7</th>\n",
       "      <td>1925_X3IJOJ.txt</td>\n",
       "      <td>PER CURIAM. The order appealed from is a plai...</td>\n",
       "      <td>( , PER, CURIAM, ., The, order, appealed, from...</td>\n",
       "    </tr>\n",
       "    <tr>\n",
       "      <th>17</th>\n",
       "      <td>1925_X3IV58.txt</td>\n",
       "      <td>VAN ORSDEL , Associate Justice. This is an or...</td>\n",
       "      <td>( , VAN, ORSDEL, ,, Associate, Justice, ., Thi...</td>\n",
       "    </tr>\n",
       "    <tr>\n",
       "      <th>49</th>\n",
       "      <td>1925_X9VC5U.txt</td>\n",
       "      <td>PER CURIAM. McCarver was a (so-called) narcot...</td>\n",
       "      <td>( , PER, CURIAM, ., McCarver, was, a, (, so, -...</td>\n",
       "    </tr>\n",
       "    <tr>\n",
       "      <th>105</th>\n",
       "      <td>1927_X3CM82.txt</td>\n",
       "      <td>VAN ORSDEL , Associate Justice. This appeal i...</td>\n",
       "      <td>( , VAN, ORSDEL, ,, Associate, Justice, ., Thi...</td>\n",
       "    </tr>\n",
       "    <tr>\n",
       "      <th>120</th>\n",
       "      <td>1927_X3DC2D.txt</td>\n",
       "      <td>DIETRICH , Circuit Judge. Defendant (plaintif...</td>\n",
       "      <td>( , DIETRICH, ,, Circuit, Judge, ., Defendant,...</td>\n",
       "    </tr>\n",
       "  </tbody>\n",
       "</table>\n",
       "</div>"
      ],
      "text/plain": [
       "                  id                                               text  \\\n",
       "7    1925_X3IJOJ.txt   PER CURIAM. The order appealed from is a plai...   \n",
       "17   1925_X3IV58.txt   VAN ORSDEL , Associate Justice. This is an or...   \n",
       "49   1925_X9VC5U.txt   PER CURIAM. McCarver was a (so-called) narcot...   \n",
       "105  1927_X3CM82.txt   VAN ORSDEL , Associate Justice. This appeal i...   \n",
       "120  1927_X3DC2D.txt   DIETRICH , Circuit Judge. Defendant (plaintif...   \n",
       "\n",
       "                                                   doc  \n",
       "7    ( , PER, CURIAM, ., The, order, appealed, from...  \n",
       "17   ( , VAN, ORSDEL, ,, Associate, Justice, ., Thi...  \n",
       "49   ( , PER, CURIAM, ., McCarver, was, a, (, so, -...  \n",
       "105  ( , VAN, ORSDEL, ,, Associate, Justice, ., Thi...  \n",
       "120  ( , DIETRICH, ,, Circuit, Judge, ., Defendant,...  "
      ]
     },
     "execution_count": 5,
     "metadata": {},
     "output_type": "execute_result"
    }
   ],
   "source": [
    "df.head()"
   ]
  },
  {
   "cell_type": "code",
   "execution_count": 6,
   "metadata": {},
   "outputs": [
    {
     "name": "stdout",
     "output_type": "stream",
     "text": [
      "The order appealed from is a plain violation of section 265 of the Judicial Code (Comp.\n",
      "[The, order, appealed, from, is, a, plain, violation, of, section, 265, of, the, Judicial, Code, (, Comp, .]\n"
     ]
    }
   ],
   "source": [
    "# getting a sentence\n",
    "sent = list(df['doc'].iloc[0].sents)[1]\n",
    "print sent\n",
    "# getting tokens\n",
    "print list(sent)"
   ]
  },
  {
   "cell_type": "markdown",
   "metadata": {},
   "source": [
    "### Get stats for sentences, tokens and chars"
   ]
  },
  {
   "cell_type": "code",
   "execution_count": 7,
   "metadata": {},
   "outputs": [
    {
     "data": {
      "text/html": [
       "<div>\n",
       "<table border=\"1\" class=\"dataframe\">\n",
       "  <thead>\n",
       "    <tr style=\"text-align: right;\">\n",
       "      <th></th>\n",
       "      <th>num_sents</th>\n",
       "      <th>num_tokens</th>\n",
       "      <th>num_chars</th>\n",
       "    </tr>\n",
       "  </thead>\n",
       "  <tbody>\n",
       "    <tr>\n",
       "      <th>7</th>\n",
       "      <td>6</td>\n",
       "      <td>213</td>\n",
       "      <td>1045</td>\n",
       "    </tr>\n",
       "    <tr>\n",
       "      <th>17</th>\n",
       "      <td>30</td>\n",
       "      <td>1371</td>\n",
       "      <td>7272</td>\n",
       "    </tr>\n",
       "    <tr>\n",
       "      <th>49</th>\n",
       "      <td>14</td>\n",
       "      <td>303</td>\n",
       "      <td>1443</td>\n",
       "    </tr>\n",
       "    <tr>\n",
       "      <th>105</th>\n",
       "      <td>76</td>\n",
       "      <td>2694</td>\n",
       "      <td>14149</td>\n",
       "    </tr>\n",
       "    <tr>\n",
       "      <th>120</th>\n",
       "      <td>61</td>\n",
       "      <td>1720</td>\n",
       "      <td>8842</td>\n",
       "    </tr>\n",
       "  </tbody>\n",
       "</table>\n",
       "</div>"
      ],
      "text/plain": [
       "     num_sents  num_tokens  num_chars\n",
       "7            6         213       1045\n",
       "17          30        1371       7272\n",
       "49          14         303       1443\n",
       "105         76        2694      14149\n",
       "120         61        1720       8842"
      ]
     },
     "execution_count": 7,
     "metadata": {},
     "output_type": "execute_result"
    }
   ],
   "source": [
    "def get_num_sents(doc):\n",
    "    return len(list(doc.sents))\n",
    "def get_num_tokens(doc):\n",
    "    return len(doc)\n",
    "\n",
    "df['num_sents'] = df['doc'].apply(get_num_sents)\n",
    "df['num_tokens'] = df['doc'].apply(get_num_tokens)\n",
    "df['num_chars'] = df['text'].str.len() \n",
    "\n",
    "df[['num_sents','num_tokens','num_chars']].head()"
   ]
  },
  {
   "cell_type": "code",
   "execution_count": 8,
   "metadata": {},
   "outputs": [
    {
     "data": {
      "text/plain": [
       "array([[<matplotlib.axes._subplots.AxesSubplot object at 0x11b758a10>]],\n",
       "      dtype=object)"
      ]
     },
     "execution_count": 8,
     "metadata": {},
     "output_type": "execute_result"
    },
    {
     "data": {
      "image/png": "[encoded data removed]",
      "text/plain": [
       "<matplotlib.figure.Figure at 0x11b6acf10>"
      ]
     },
     "metadata": {},
     "output_type": "display_data"
    }
   ],
   "source": [
    "df.hist(column='num_sents', bins=25)"
   ]
  },
  {
   "cell_type": "code",
   "execution_count": 9,
   "metadata": {},
   "outputs": [
    {
     "data": {
      "text/plain": [
       "array([[<matplotlib.axes._subplots.AxesSubplot object at 0x13660ea90>]],\n",
       "      dtype=object)"
      ]
     },
     "execution_count": 9,
     "metadata": {},
     "output_type": "execute_result"
    },
    {
     "data": {
      "image/png": "[encoded data removed]",
      "text/plain": [
       "<matplotlib.figure.Figure at 0x13acb7510>"
      ]
     },
     "metadata": {},
     "output_type": "display_data"
    }
   ],
   "source": [
    "df.hist(column='num_tokens', bins=50)"
   ]
  },
  {
   "cell_type": "code",
   "execution_count": 10,
   "metadata": {},
   "outputs": [
    {
     "data": {
      "text/plain": [
       "array([[<matplotlib.axes._subplots.AxesSubplot object at 0x13e6f17d0>]],\n",
       "      dtype=object)"
      ]
     },
     "execution_count": 10,
     "metadata": {},
     "output_type": "execute_result"
    },
    {
     "data": {
      "image/png": "[encoded data removed]",
      "text/plain": [
       "<matplotlib.figure.Figure at 0x142e83110>"
      ]
     },
     "metadata": {},
     "output_type": "display_data"
    }
   ],
   "source": [
    "df.hist(column='num_chars', bins=50)"
   ]
  },
  {
   "cell_type": "markdown",
   "metadata": {},
   "source": [
    "### Get POS tag counts"
   ]
  },
  {
   "cell_type": "code",
   "execution_count": 11,
   "metadata": {},
   "outputs": [
    {
     "data": {
      "text/html": [
       "<div>\n",
       "<table border=\"1\" class=\"dataframe\">\n",
       "  <thead>\n",
       "    <tr style=\"text-align: right;\">\n",
       "      <th></th>\n",
       "      <th>nouns</th>\n",
       "      <th>verb</th>\n",
       "      <th>adj</th>\n",
       "    </tr>\n",
       "  </thead>\n",
       "  <tbody>\n",
       "    <tr>\n",
       "      <th>7</th>\n",
       "      <td>50</td>\n",
       "      <td>36</td>\n",
       "      <td>8</td>\n",
       "    </tr>\n",
       "    <tr>\n",
       "      <th>17</th>\n",
       "      <td>202</td>\n",
       "      <td>153</td>\n",
       "      <td>77</td>\n",
       "    </tr>\n",
       "    <tr>\n",
       "      <th>49</th>\n",
       "      <td>55</td>\n",
       "      <td>54</td>\n",
       "      <td>20</td>\n",
       "    </tr>\n",
       "    <tr>\n",
       "      <th>105</th>\n",
       "      <td>497</td>\n",
       "      <td>392</td>\n",
       "      <td>156</td>\n",
       "    </tr>\n",
       "    <tr>\n",
       "      <th>120</th>\n",
       "      <td>315</td>\n",
       "      <td>279</td>\n",
       "      <td>108</td>\n",
       "    </tr>\n",
       "  </tbody>\n",
       "</table>\n",
       "</div>"
      ],
      "text/plain": [
       "     nouns  verb  adj\n",
       "7       50    36    8\n",
       "17     202   153   77\n",
       "49      55    54   20\n",
       "105    497   392  156\n",
       "120    315   279  108"
      ]
     },
     "execution_count": 11,
     "metadata": {},
     "output_type": "execute_result"
    }
   ],
   "source": [
    "from collections import Counter\n",
    "def count_noun(doc):\n",
    "    c = Counter(([token.pos_ for token in doc]))\n",
    "    return c['NOUN']\n",
    "def count_verb(doc):\n",
    "    c = Counter(([token.pos_ for token in doc]))\n",
    "    return c['VERB']\n",
    "def count_adj(doc):\n",
    "    c = Counter(([token.pos_ for token in doc]))\n",
    "    return c['ADJ']\n",
    "\n",
    "df['nouns']=df['doc'].apply(count_noun)\n",
    "df['verb']=df['doc'].apply(count_verb)\n",
    "df['adj']=df['doc'].apply(count_adj)\n",
    "df[['nouns','verb','adj']].head()"
   ]
  },
  {
   "cell_type": "code",
   "execution_count": 12,
   "metadata": {},
   "outputs": [
    {
     "data": {
      "text/html": [
       "<div>\n",
       "<table border=\"1\" class=\"dataframe\">\n",
       "  <thead>\n",
       "    <tr style=\"text-align: right;\">\n",
       "      <th></th>\n",
       "      <th>year</th>\n",
       "    </tr>\n",
       "  </thead>\n",
       "  <tbody>\n",
       "    <tr>\n",
       "      <th>7</th>\n",
       "      <td>1925</td>\n",
       "    </tr>\n",
       "    <tr>\n",
       "      <th>17</th>\n",
       "      <td>1925</td>\n",
       "    </tr>\n",
       "    <tr>\n",
       "      <th>49</th>\n",
       "      <td>1925</td>\n",
       "    </tr>\n",
       "    <tr>\n",
       "      <th>105</th>\n",
       "      <td>1927</td>\n",
       "    </tr>\n",
       "    <tr>\n",
       "      <th>120</th>\n",
       "      <td>1927</td>\n",
       "    </tr>\n",
       "  </tbody>\n",
       "</table>\n",
       "</div>"
      ],
      "text/plain": [
       "     year\n",
       "7    1925\n",
       "17   1925\n",
       "49   1925\n",
       "105  1927\n",
       "120  1927"
      ]
     },
     "execution_count": 12,
     "metadata": {},
     "output_type": "execute_result"
    }
   ],
   "source": [
    "def get_year(doc):\n",
    "    return doc.split(\"_\")[0]\n",
    "df['year']=df['id'].apply(get_year)\n",
    "df[['year']].head()"
   ]
  },
  {
   "cell_type": "code",
   "execution_count": 13,
   "metadata": {},
   "outputs": [
    {
     "data": {
      "text/html": [
       "<div>\n",
       "<table border=\"1\" class=\"dataframe\">\n",
       "  <thead>\n",
       "    <tr style=\"text-align: right;\">\n",
       "      <th></th>\n",
       "      <th>id</th>\n",
       "      <th>year</th>\n",
       "      <th>ncount</th>\n",
       "    </tr>\n",
       "  </thead>\n",
       "  <tbody>\n",
       "    <tr>\n",
       "      <th>7</th>\n",
       "      <td>1925_X3IJOJ.txt</td>\n",
       "      <td>1925</td>\n",
       "      <td>1</td>\n",
       "    </tr>\n",
       "    <tr>\n",
       "      <th>17</th>\n",
       "      <td>1925_X3IV58.txt</td>\n",
       "      <td>1925</td>\n",
       "      <td>1</td>\n",
       "    </tr>\n",
       "    <tr>\n",
       "      <th>49</th>\n",
       "      <td>1925_X9VC5U.txt</td>\n",
       "      <td>1925</td>\n",
       "      <td>1</td>\n",
       "    </tr>\n",
       "    <tr>\n",
       "      <th>105</th>\n",
       "      <td>1927_X3CM82.txt</td>\n",
       "      <td>1927</td>\n",
       "      <td>1</td>\n",
       "    </tr>\n",
       "    <tr>\n",
       "      <th>120</th>\n",
       "      <td>1927_X3DC2D.txt</td>\n",
       "      <td>1927</td>\n",
       "      <td>1</td>\n",
       "    </tr>\n",
       "  </tbody>\n",
       "</table>\n",
       "</div>"
      ],
      "text/plain": [
       "                  id  year  ncount\n",
       "7    1925_X3IJOJ.txt  1925       1\n",
       "17   1925_X3IV58.txt  1925       1\n",
       "49   1925_X9VC5U.txt  1925       1\n",
       "105  1927_X3CM82.txt  1927       1\n",
       "120  1927_X3DC2D.txt  1927       1"
      ]
     },
     "execution_count": 13,
     "metadata": {},
     "output_type": "execute_result"
    }
   ],
   "source": [
    "df['ncount'] = df.groupby('id')['year'].transform('nunique')\n",
    "df[['id', 'year', 'ncount']].head()"
   ]
  },
  {
   "cell_type": "code",
   "execution_count": 14,
   "metadata": {},
   "outputs": [
    {
     "data": {
      "text/html": [
       "<div>\n",
       "<table border=\"1\" class=\"dataframe\">\n",
       "  <thead>\n",
       "    <tr style=\"text-align: right;\">\n",
       "      <th></th>\n",
       "      <th>year</th>\n",
       "      <th>noun_freq</th>\n",
       "      <th>adjective_freq</th>\n",
       "      <th>verb_freq</th>\n",
       "    </tr>\n",
       "  </thead>\n",
       "  <tbody>\n",
       "    <tr>\n",
       "      <th>7</th>\n",
       "      <td>1925</td>\n",
       "      <td>0.234742</td>\n",
       "      <td>0.037559</td>\n",
       "      <td>0.169014</td>\n",
       "    </tr>\n",
       "    <tr>\n",
       "      <th>17</th>\n",
       "      <td>1925</td>\n",
       "      <td>0.147338</td>\n",
       "      <td>0.056163</td>\n",
       "      <td>0.111597</td>\n",
       "    </tr>\n",
       "    <tr>\n",
       "      <th>49</th>\n",
       "      <td>1925</td>\n",
       "      <td>0.181518</td>\n",
       "      <td>0.066007</td>\n",
       "      <td>0.178218</td>\n",
       "    </tr>\n",
       "    <tr>\n",
       "      <th>105</th>\n",
       "      <td>1927</td>\n",
       "      <td>0.184484</td>\n",
       "      <td>0.057906</td>\n",
       "      <td>0.145509</td>\n",
       "    </tr>\n",
       "    <tr>\n",
       "      <th>120</th>\n",
       "      <td>1927</td>\n",
       "      <td>0.183140</td>\n",
       "      <td>0.062791</td>\n",
       "      <td>0.162209</td>\n",
       "    </tr>\n",
       "  </tbody>\n",
       "</table>\n",
       "</div>"
      ],
      "text/plain": [
       "     year  noun_freq  adjective_freq  verb_freq\n",
       "7    1925   0.234742        0.037559   0.169014\n",
       "17   1925   0.147338        0.056163   0.111597\n",
       "49   1925   0.181518        0.066007   0.178218\n",
       "105  1927   0.184484        0.057906   0.145509\n",
       "120  1927   0.183140        0.062791   0.162209"
      ]
     },
     "execution_count": 14,
     "metadata": {},
     "output_type": "execute_result"
    }
   ],
   "source": [
    "def get_num_tokens(doc):\n",
    "    return len(doc)\n",
    "\n",
    "df['num_tokens'] = df['doc'].apply(get_num_tokens)\n",
    "\n",
    "df['noun_freq'] = df['nouns'] / df['num_tokens']\n",
    "df['adjective_freq'] = df['adj'] / df['num_tokens']\n",
    "df['verb_freq'] = df['verb'] / df['num_tokens']\n",
    "\n",
    "df[['year', 'noun_freq', 'adjective_freq', 'verb_freq']].head()"
   ]
  },
  {
   "cell_type": "code",
   "execution_count": 15,
   "metadata": {},
   "outputs": [
    {
     "data": {
      "image/png": "[encoded data removed]",
      "text/plain": [
       "<matplotlib.figure.Figure at 0x148af4f50>"
      ]
     },
     "metadata": {},
     "output_type": "display_data"
    }
   ],
   "source": [
    "ax = df.groupby('year')['noun_freq'].mean().plot()\n",
    "ax.set_ylabel('Average Noun Frequency')\n",
    "import matplotlib.pyplot as plt\n",
    "plt.show()"
   ]
  },
  {
   "cell_type": "code",
   "execution_count": 16,
   "metadata": {},
   "outputs": [
    {
     "data": {
      "image/png": "[encoded data removed]",
      "text/plain": [
       "<matplotlib.figure.Figure at 0x151bf7610>"
      ]
     },
     "metadata": {},
     "output_type": "display_data"
    }
   ],
   "source": [
    "ax = df.groupby('year')['adjective_freq'].mean().plot()\n",
    "ax.set_ylabel('Average Adjective Frequency')\n",
    "plt.show()"
   ]
  },
  {
   "cell_type": "code",
   "execution_count": 17,
   "metadata": {},
   "outputs": [
    {
     "data": {
      "image/png": "[encoded data removed]",
      "text/plain": [
       "<matplotlib.figure.Figure at 0x146062310>"
      ]
     },
     "metadata": {},
     "output_type": "display_data"
    }
   ],
   "source": [
    "ax = df.groupby('year')['verb_freq'].mean().plot()\n",
    "ax.set_ylabel('Average Verb Frequency')\n",
    "plt.show()"
   ]
  },
  {
   "cell_type": "markdown",
   "metadata": {},
   "source": [
    "### Normalize corpus"
   ]
  },
  {
   "cell_type": "code",
   "execution_count": 18,
   "metadata": {},
   "outputs": [
    {
     "data": {
      "text/plain": [
       "7      [per, curiam, order, appeal, plain, violat, se...\n",
       "17     [van, orsdel, associ, justic, origin, proceed,...\n",
       "49     [per, curiam, mccarver, socal, narcot, inspect...\n",
       "105    [van, orsdel, associ, justic, appeal, decre, s...\n",
       "120    [dietrich, circuit, judg, defend, plaintiff, e...\n",
       "Name: normalized_doc, dtype: object"
      ]
     },
     "execution_count": 18,
     "metadata": {},
     "output_type": "execute_result"
    }
   ],
   "source": [
    "import string\n",
    "from string import punctuation\n",
    "from nltk.corpus import stopwords\n",
    "stoplist = set(stopwords.words('english'))\n",
    "from nltk.stem import SnowballStemmer\n",
    "stemmer = SnowballStemmer('english')\n",
    "\n",
    "def normalize_corpus(doc):\n",
    "    tokens = []\n",
    "    for sent in doc.sents:\n",
    "        sent = str(sent)\n",
    "        # change carrige return\n",
    "        sent = sent.replace('\\r', ' ').replace('\\n', ' ')\n",
    "        # make everything lowercase\n",
    "        lower = sent.lower() \n",
    "        # remove punctuation\n",
    "        nopunc = lower.translate(None, string.punctuation)\n",
    "        # split by whitespace\n",
    "        words = nopunc.split() \n",
    "        # remove stopwords\n",
    "        nostop = [w for w in words if w not in stoplist] \n",
    "        # normalize digits\n",
    "        no_numbers = [w if not w.isdigit() else '#' for w in nostop] \n",
    "        # apply a stemmer\n",
    "        stemmed = [stemmer.stem(w.decode('utf-8')) for w in no_numbers] \n",
    "        tokens += stemmed \n",
    "    return tokens\n",
    "        \n",
    "df['normalized_doc'] = df['doc'].apply(normalize_corpus)\n",
    "df['normalized_doc'].head()"
   ]
  },
  {
   "cell_type": "markdown",
   "metadata": {},
   "source": [
    "### Make a feature set of all trigrams that end in a noun"
   ]
  },
  {
   "cell_type": "code",
   "execution_count": 19,
   "metadata": {},
   "outputs": [
    {
     "name": "stderr",
     "output_type": "stream",
     "text": [
      "IOPub data rate exceeded.\n",
      "The notebook server will temporarily stop sending output\n",
      "to the client in order to avoid crashing it.\n",
      "To change this limit, set the config variable\n",
      "`--NotebookApp.iopub_data_rate_limit`.\n",
      "\n",
      "Current values:\n",
      "NotebookApp.iopub_data_rate_limit=1000000.0 (bytes/sec)\n",
      "NotebookApp.rate_limit_window=3.0 (secs)\n",
      "\n"
     ]
    }
   ],
   "source": [
    "import nltk\n",
    "terms = {}\n",
    "for doc in df['normalized_doc']:\n",
    "    triword =  [t for t in nltk.trigrams(doc)]\n",
    "    for trigram in triword:\n",
    "        (token1, token2, token3) = trigram\n",
    "        if nlp(token3)[0].pos_ == 'NOUN':\n",
    "            if trigram in terms:\n",
    "                terms[trigram]+=1\n",
    "            else:\n",
    "                terms[trigram]=1\n",
    "print terms"
   ]
  },
  {
   "cell_type": "markdown",
   "metadata": {},
   "source": [
    "### Make a dataframe with 1000 features"
   ]
  },
  {
   "cell_type": "code",
   "execution_count": 20,
   "metadata": {},
   "outputs": [
    {
     "name": "stdout",
     "output_type": "stream",
     "text": [
      "set([(u'share', u'common', u'stock'), (u'#', u'10th', u'cir'), (u'judici', u'bypass', u'option'), (u'tanley', u'w', u'arner'), (u'in', u'co', u'#'), (u'see', u'arizrevstat', u'#'), (u'district', u'court', u'instruct'), (u'corp', u'#', u'cir'), (u'#', u'usc', u'#'), (u'co', u'#', u'#'), (u'afteracquir', u'evid', u'doctrin'), (u'appeal', u'second', u'circuit'), (u'#', u'suprem', u'court'), (u'dismiss', u'district', u'court'), (u'decis', u'tax', u'court'), (u'amend', u'unit', u'state'), (u'5th', u'cir', u'#'), (u'provis', u'section', u'#'), (u'#', u'intern', u'revenu'), (u'ration', u'relat', u'legitim'), (u'#', u'wl', u'#'), (u'cash', u'surrend', u'valu'), (u'januari', u'#', u'#'), (u'see', u'#', u'cfr'), (u'permiss', u'exposur', u'limit'), (u'div', u'#', u'#'), (u'ca', u'#', u'#'), (u'relat', u'legitim', u'state'), (u'#', u'#', u'usca'), (u'see', u'eg', u'unit'), (u'collect', u'bargain', u'contract'), (u'state', u'district', u'court'), (u'hold', u'district', u'court'), (u'irrevoc', u'set', u'asid'), (u'sct', u'#', u'congress'), (u'east', u'st', u'loui'), (u'feder', u'maritim', u'law'), (u'u', u'#', u'#'), (u'nation', u'prohibit', u'act'), (u'intern', u'revenu', u'#'), (u'april', u'#', u'#'), (u'compens', u'act', u'#'), (u'state', u'unit', u'state'), (u'decis', u'district', u'court'), (u'#', u'cfr', u'1007e'), (u'#', u'#', u'respect'), (u'lrev', u'#', u'#'), (u'f2d', u'#', u'affirm'), (u'#', u'f2d', u'#'), (u'twenti', u'cent', u'barrel'), (u'within', u'mean', u'section'), (u'ii', u'#', u'f3d'), (u'board', u'educ', u'#'), (u'new', u'york', u'state'), (u'cir', u'#', u'district'), (u'#', u'f2d', u'page'), (u'motion', u'summari', u'judgment'), (u'affirm', u'action', u'plan'), (u'prima', u'faci', u'case'), (u'requir', u'#', u'#'), (u'ineffect', u'assist', u'counsel'), (u'burk', u'#', u'f3d'), (u'inflict', u'emot', u'distress'), (u'fiscal', u'year', u'#'), (u'case', u'suprem', u'court'), (u'pierson', u'v', u'ray'), (u'#', u'sct', u'page'), (u'#', u'#', u'titl'), (u'fide', u'error', u'defens'), (u'march', u'#', u'#'), (u'ny', u'#', u'#'), (u'#', u'feder', u'rule'), (u'#', u'fed', u'reg'), (u'occup', u'safeti', u'health'), (u'#', u'a2d', u'#'), (u'telecommun', u'act', u'#'), (u'trea', u'reg', u'#'), (u'co', u'v', u'unit'), (u'speedi', u'trial', u'act'), (u'cir', u'#', u'cert'), (u'#', u'juli', u'#'), (u'state', u'new', u'york'), (u'sct', u'#', u'suprem'), (u'relat', u'back', u'doctrin'), (u'#', u'#', u'addit'), (u'jan', u'#', u'#'), (u'within', u'#', u'day'), (u'appli', u'strict', u'scrutini'), (u'nation', u'bank', u'act'), (u'new', u'york', u'casualti'), (u'#', u'#', u'bankr'), (u'rape', u'mrs', u'keller'), (u'bona', u'fide', u'error'), (u'sct', u'#', u'accord'), (u'l', u'r', u'#'), (u'state', u'#', u'cir'), (u'3d', u'cir', u'#'), (u'district', u'court', u'reason'), (u'direct', u'victim', u'gender'), (u'#', u'revis', u'statut'), (u'plain', u'languag', u'statut'), (u'admiss', u'confess', u'feder'), (u'suprem', u'court', u'virginia'), (u'#', u'#', u'decis'), (u'2d', u'cir', u'#'), (u'also', u'unit', u'state'), (u'#', u'#', u'suprem'), (u'judg', u'abus', u'discret'), (u'regul', u'employ', u'discrimin'), (u'#', u'uscod', u'cong'), (u'religi', u'instruct', u'prayer'), (u'sunris', u'rock', u'cross'), (u'f', u'#', u'#'), (u'r', u'co', u'supra'), (u'#', u'ca', u'#'), (u'special', u'agent', u'lawlor'), (u'amend', u'right', u'counsel'), (u'jurisdict', u'tobacco', u'product'), (u'#', u'per', u'month'), (u'a2d', u'#', u'#'), (u'affirm', u'district', u'court'), (u'octob', u'#', u'#'), (u'limit', u'public', u'forum'), (u'claim', u'district', u'court'), (u'arner', u'g', u'oldman'), (u'#', u'percent', u'stock'), (u'guardian', u'ad', u'litem'), (u'district', u'court', u'rule'), (u'incom', u'tax', u'return'), (u'trial', u'judg', u'refus'), (u'declaratori', u'injunct', u'relief'), (u'#', u'#', u'reprint'), (u'immun', u'state', u'taxat'), (u'district', u'court', u'author'), (u'bar', u'judici', u'review'), (u'part', u'revers', u'part'), (u'led', u'#', u'case'), (u'v', u'fcc', u'#'), (u'#', u'9th', u'cir1991'), (u'civil', u'procedur', u'rule'), (u'york', u'casualti', u'compani'), (u'section', u'#', u'revenu'), (u'oconnor', u'j', u'concur'), (u'chicago', u'mercantil', u'exchang'), (u'termin', u'pay', u'plan'), (u'#', u'alr', u'#'), (u'power', u'light', u'co'), (u'mail', u'fraud', u'statut'), (u'v', u'new', u'york'), (u'#', u'led', u'#'), (u'n', u'e', u'#'), (u'ltd', u'#', u'f3d'), (u'#', u'ne2d', u'#'), (u'f2d', u'#', u'case'), (u'6th', u'cir', u'#'), (u'bell', u'#', u'f3d'), (u'judgment', u'district', u'court'), (u'town', u'prayer', u'practic'), (u'v', u'feder', u'power'), (u'case', u'district', u'court'), (u'#', u'tax', u'court'), (u'state', u'court', u'feder'), (u'certiorari', u'deni', u'#'), (u'r', u'b', u'#'), (u'affirm', u'part', u'revers'), (u'mbusa', u'author', u'resel'), (u'summari', u'judgment', u'defend'), (u'move', u'summari', u'judgment'), (u'see', u'also', u'unit'), (u'new', u'york', u'court'), (u'brotherhood', u'railroad', u'trainmen'), (u'9th', u'cir', u'cert'), (u'blue', u'chip', u'stamp'), (u'octob', u'#', u'letter'), (u'interst', u'commerc', u'commiss'), (u'california', u'suprem', u'court'), (u'victim', u'gender', u'discrimin'), (u'district', u'court', u'lack'), (u'#', u'acr', u'land'), (u'interest', u'id', u'#'), (u'unit', u'steelwork', u'america'), (u'state', u'#', u'#'), (u'civil', u'right', u'statut'), (u'sct', u'#', u'citi'), (u'new', u'york', u'citi'), (u'2d', u'sess', u'#'), (u'regular', u'cours', u'busi'), (u'smokeless', u'tobacco', u'act'), (u'act', u'#', u'#'), (u'#', u'per', u'share'), (u'cal', u'rptr', u'#'), (u'#', u'section', u'#'), (u'trade', u'commiss', u'act'), (u'sct', u'#', u'citat'), (u'secur', u'act', u'#'), (u'year', u'discharg', u'debt'), (u'#', u'tc', u'#'), (u'exercis', u'person', u'jurisdict'), (u'ne', u'#', u'#'), (u'#', u'usca', u'int'), (u'#', u'p2d', u'#'), (u'v', u'california', u'#'), (u'court', u'find', u'fact'), (u'sct', u'#', u'court'), (u'usca', u'#', u'#'), (u'rptr', u'#', u'#'), (u'district', u'court', u'court'), (u'feder', u'district', u'court'), (u'district', u'court', u'consid'), (u'new', u'york', u'time'), (u'fsupp2d', u'#', u'#'), (u'parti', u'unit', u'state'), (u'requir', u'section', u'#'), (u'district', u'court', u'unit'), (u'time', u'v', u'sullivan'), (u'v', u'johnson', u'#'), (u'held', u'unit', u'state'), (u'intern', u'revenu', u'code'), (u'statut', u'#', u'usca'), (u'year', u'#', u'#'), (u'water', u'power', u'act'), (u'corp', u'#', u'f3d'), (u'conclud', u'district', u'court'), (u'#', u'73d', u'cong'), (u'district', u'court', u'remand'), (u'prohibit', u'act', u'#'), (u'court', u'district', u'court'), (u'v', u'board', u'educ'), (u'employ', u'opportun', u'commiss'), (u'reckless', u'disregard', u'truth'), (u'#', u'case', u'involv'), (u'juri', u'could', u'consid'), (u'ed', u'#', u'#'), (u'#', u'9th', u'cir1983'), (u'end', u'result', u'test'), (u'us', u'#', u'sct'), (u'us', u'#', u'#'), (u'feder', u'secur', u'law'), (u'vacat', u'arbitr', u'award'), (u'rec', u'#', u'#'), (u'commission', u'intern', u'revenu'), (u'mass', u'#', u'#'), (u'see', u'eg', u'#'), (u'#', u'court', u'state'), (u'page', u'#', u'column'), (u'pipe', u'line', u'compani'), (u'sct', u'#', u'state'), (u'administr', u'law', u'judg'), (u'legitim', u'public', u'purpos'), (u'set', u'forth', u'suprem'), (u'amend', u'#', u'usca'), (u'grow', u'labor', u'disput'), (u'#', u'#', u'case'), (u'#', u'see', u'#'), (u'case', u'unit', u'state'), (u'#', u'deputi', u'commission'), (u'refus', u'answer', u'question'), (u'#', u'emphasi', u'ad'), (u'board', u'tax', u'appeal'), (u'septemb', u'#', u'#'), (u'declaratori', u'judgment', u'act'), (u'resid', u'unit', u'state'), (u'#', u'n', u'#'), (u'pursuant', u'section', u'#'), (u'crimin', u'procedur', u'#'), (u'#', u'cir', u'#'), (u'#', u'\\u2014', u'date'), (u'missouri', u'court', u'appeal'), (u'quot', u'unit', u'state'), (u'titl', u'insur', u'trust'), (u'claim', u'racial', u'harass'), (u'act', u'section', u'#'), (u'suprem', u'court', u'unit'), (u'communist', u'parti', u'member'), (u'cigarett', u'label', u'act'), (u'govern', u'unit', u'state'), (u'use', u'school', u'facil'), (u'quotat', u'mark', u'omit'), (u'video', u'poker', u'licens'), (u'unoc', u'#', u'f3d'), (u'#', u'page', u'#'), (u'davi', u'v', u'unit'), (u'ppm', u'#', u'ppm'), (u'senior', u'circuit', u'judg'), (u'viabl', u'use', u'properti'), (u'v', u'unit', u'state'), (u'cert', u'den', u'#'), (u'licens', u'g', u'oldman'), (u'prior', u'inconsist', u'statement'), (u'us', u'const', u'art'), (u'#', u'rule', u'#'), (u'see', u'unit', u'state'), (u'communiti', u'communic', u'co'), (u'#', u'februari', u'#'), (u'judgment', u'matter', u'law'), (u'#', u'codifi', u'#'), (u'railway', u'labor', u'act'), (u'first', u'district', u'court'), (u'court', u'suprem', u'court'), (u'cert', u'deni', u'#'), (u'#', u'#', u'alr'), (u'impos', u'undu', u'burden'), (u'wall', u'#', u'#'), (u'longshoremen', u'harbor', u'worker'), (u'period', u'novemb', u'#'), (u'challeng', u'district', u'court'), (u'sct', u'#', u'#'), (u'uscod', u'cong', u'admin'), (u'fed', u'reg', u'#'), (u'#', u'#', u'commission'), (u'#', u'2d', u'cir'), (u'court', u'southern', u'district'), (u'district', u'court', u'abus'), (u'#', u'note', u'#'), (u'deni', u'us', u'#'), (u'district', u'court', u'opinion'), (u'co', u'supra', u'#'), (u'v', u'texa', u'#'), (u'#', u'ne', u'#'), (u'within', u'taxabl', u'year'), (u'court', u'held', u'defend'), (u'subject', u'matter', u'jurisdict'), (u'exposur', u'limit', u'#'), (u'#', u'#', u'date'), (u'feder', u'save', u'loan'), (u'grant', u'summari', u'judgment'), (u'#', u'march', u'#'), (u'languag', u'section', u'#'), (u'would', u'entitl', u'relief'), (u'#', u'9th', u'cir1984'), (u'fals', u'claim', u'act'), (u'suprem', u'court', u'repeat'), (u'state', u'north', u'dakota'), (u'district', u'court', u'affirm'), (u'within', u'six', u'month'), (u'id', u'#', u'court'), (u'#', u'nys', u'#'), (u'aggrav', u'mitig', u'circumst'), (u'note', u'#', u'#'), (u'#', u'ct', u'#'), (u'#', u'#', u'#'), (u'#', u'6th', u'cir'), (u'tort', u'claim', u'act'), (u'feder', u'power', u'commiss'), (u'may', u'#', u'#'), (u'#', u'reach', u'conclus'), (u'worker', u'compens', u'act'), (u'v', u'sullivan', u'#'), (u'column', u'#', u'line'), (u'usca', u'#', u'west'), (u'award', u'attorney', u'fee'), (u'#', u'#', u'board'), (u'see', u'also', u'#'), (u'review', u'feder', u'court'), (u'court', u'unit', u'state'), (u'clear', u'reflect', u'incom'), (u'#', u'f', u'#'), (u'#', u'8th', u'cir'), (u'although', u'district', u'court'), (u'#', u'us', u'page'), (u'summari', u'judgment', u'favor'), (u'sct', u'#', u'footnot'), (u'connect', u'secur', u'transact'), (u'#', u'june', u'#'), (u'juli', u'#', u'#'), (u'jurisdict', u'district', u'court'), (u'superintend', u'legisl', u'intervenor'), (u'trial', u'court', u'refus'), (u'#', u'#', u'fact'), (u'7th', u'cir', u'#'), (u'first', u'virginia', u'bank'), (u'\\xb6', u'#', u'#'), (u'#', u'instant', u'case'), (u'insur', u'trust', u'compani'), (u'colleg', u'save', u'bank'), (u'provis', u'#', u'usca'), (u'feder', u'trade', u'commiss'), (u'feder', u'rule', u'crimin'), (u'#', u'quot', u'unit'), (u'#', u'hb', u'#'), (u'#', u'#', u'affirm'), (u'v', u'mitchel', u'#'), (u'section', u'#', u'#'), (u'compani', u'new', u'york'), (u'#', u'affd', u'#'), (u'person', u'jurisdict', u'dcag'), (u'v', u'robinson', u'#'), (u'civil', u'right', u'act'), (u'#', u'p', u'#'), (u'provis', u'#', u'act'), (u'co', u'v', u'commission'), (u'district', u'court', u'state'), (u'district', u'court', u'appli'), (u'coyn', u'beahm', u'#'), (u'#', u'#', u'state'), (u'#', u'amend', u'#'), (u'suprem', u'court', u'affirm'), (u'law', u'enforc', u'author'), (u'v', u'nlrb', u'#'), (u'arner', u'b', u'ros'), (u'goodson', u'maria', u'goodson'), (u'violat', u'feder', u'law'), (u'led', u'#', u'#'), (u'provid', u'safe', u'health'), (u'regul', u'tobacco', u'product'), (u'code', u'ann', u'#'), (u'hodgson', u'#', u'sct'), (u'caus', u'undu', u'burden'), (u'technic', u'violat', u'miranda'), (u'also', u'id', u'#'), (u'impair', u'compar', u'sever'), (u'rule', u'#', u'feder'), (u'#', u'#', u'feder'), (u'product', u'co', u'#'), (u'effect', u'juli', u'#'), (u'v', u'south', u'carolina'), (u'prematur', u'ruptur', u'membran'), (u'state', u'court', u'appeal'), (u'#', u'fsupp2d', u'#'), (u'bankruptci', u'act', u'#'), (u'congress', u'enact', u'#'), (u'public', u'servic', u'commiss'), (u'local', u'#', u'#'), (u'earli', u'retir', u'benefit'), (u'f2d', u'page', u'#'), (u'v', u'harri', u'#'), (u'tsg', u'ltd', u'tsg'), (u'commod', u'exchang', u'commiss'), (u'writ', u'habea', u'corpus'), (u'#', u'#', u'citat'), (u'v', u'fpc', u'#'), (u'mich', u'comp', u'law'), (u'feder', u'tort', u'claim'), (u'district', u'court', u'district'), (u'revenu', u'act', u'#'), (u'natur', u'gas', u'act'), (u'#', u'#', u'moreov'), (u'invest', u'tax', u'credit'), (u'unit', u'state', u'#'), (u'titl', u'trust', u'compani'), (u'v', u'smith', u'#'), (u'suprem', u'court', u'recogn'), (u'public', u'trust', u'land'), (u'#', u'bl', u'#'), (u'lack', u'subject', u'matter'), (u'pub', u'l', u'#'), (u'labor', u'relat', u'act'), (u'oct', u'#', u'#'), (u'order', u'august', u'#'), (u'district', u'court', u'revers'), (u'revers', u'judgment', u'district'), (u'review', u'state', u'commiss'), (u'f', u'c', u'#'), (u'#', u'cfr', u'#'), (u'august', u'#', u'#'), (u'cabl', u'televis', u'system'), (u'court', u'review', u'state'), (u'februari', u'#', u'#'), (u'remand', u'district', u'court'), (u'manifest', u'disregard', u'law'), (u'#', u'fcc', u'rcd'), (u'commod', u'exchang', u'act'), (u'#', u'#', u'plaintiff'), (u'novemb', u'#', u'#'), (u'legitim', u'state', u'interest'), (u'c', u'c', u'#'), (u'dermal', u'contact', u'prohibit'), (u'find', u'fact', u'conclus'), (u'life', u'in', u'co'), (u'circuit', u'judg', u'question'), (u'17a', u'secur', u'act'), (u'exchang', u'act', u'#'), (u'petit', u'writ', u'habea'), (u'district', u'court', u'conclus'), (u'r', u'co', u'#'), (u'suit', u'unit', u'state'), (u'serv', u'inc', u'#'), (u'properti', u'iv', u'ltd'), (u'invers', u'condemn', u'action'), (u'without', u'due', u'process'), (u'state', u'legitim', u'interest'), (u'suspicionless', u'drug', u'test'), (u'due', u'process', u'law'), (u'strict', u'scrutini', u'review'), (u'titl', u'#', u'usca'), (u'f3d', u'#', u'#'), (u'argument', u'district', u'court'), (u'cir', u'#', u'court'), (u'appeal', u'district', u'court'), (u'right', u'titl', u'interest'), (u'feder', u'incom', u'taxat'), (u'#', u'#', u'court'), (u'base', u'level', u'fund'), (u'review', u'district', u'court'), (u'#', u'#', u'appli'), (u'one', u'share', u'#'), (u'parker', u'j', u'dissent'), (u'right', u'juri', u'trial'), (u'section', u'#', u'appli'), (u'unit', u'state', u'america'), (u'del', u'mont', u'dune'), (u'state', u'depart', u'labor'), (u'secur', u'exchang', u'act'), (u'refus', u'grant', u'continu'), (u'page', u'#', u'#'), (u'district', u'court', u'refus'), (u'claim', u'#', u'#'), (u'collect', u'bargain', u'agreement'), (u'feder', u'court', u'jurisdict'), (u'section', u'#', u'titl'), (u'equal', u'protect', u'law'), (u'district', u'court', u'denial'), (u'time', u'distribut', u'taxpay'), (u'motion', u'new', u'trial'), (u'district', u'court', u'#'), (u'#', u'revenu', u'act'), (u'#', u'#', u'report'), (u'decis', u'unit', u'state'), (u'secur', u'exchang', u'commiss'), (u'#', u'9th', u'cir'), (u'#', u'unit', u'state'), (u'real', u'estat', u'titl'), (u'substant', u'due', u'process'), (u'#', u'se2d', u'#'), (u'within', u'mean', u'#'), (u'tc', u'#', u'parker'), (u'#', u'br', u'#'), (u'ms', u'farrey', u'lien'), (u'v', u'new', u'jersey'), (u'circuit', u'court', u'appeal'), (u'#', u'fed', u'cir'), (u'#', u'titl', u'#'), (u'paragraph', u'#', u'#'), (u'circuit', u'judg', u'case'), (u'revers', u'caus', u'remand'), (u'intern', u'quotat', u'omit'), (u'v', u'bell', u'#'), (u'#', u'2d', u'cir1984'), (u'chip', u'stamp', u'compani'), (u'find', u'district', u'court'), (u'juri', u'return', u'verdict'), (u'#', u'#', u'district'), (u'court', u'er', u'refus'), (u'hear', u'district', u'court'), (u'#', u'stat', u'#'), (u'usc', u'#', u'#'), (u'#', u'fsupp', u'#'), (u'f2d', u'#', u'#'), (u'flore', u'v', u'arizona'), (u'claus', u'construct', u'award'), (u'equal', u'protect', u'claim'), (u'act', u'june', u'#'), (u'1st', u'cir', u'#'), (u'#', u'id', u'#'), (u'voluntari', u'introduct', u'water'), (u'order', u'district', u'court'), (u'law', u'id', u'#'), (u'tax', u'year', u'#'), (u'#', u'7th', u'cir'), (u'unit', u'state', u'court'), (u'#', u'c', u'#'), (u'v', u'brown', u'#'), (u'new', u'york', u'#'), (u'doctrin', u'ex', u'part'), (u'v', u'ftc', u'#'), (u'limit', u'liabil', u'act'), (u'agre', u'district', u'court'), (u'#', u'#', u'defend'), (u'court', u'lack', u'jurisdict'), (u'procedur', u'#', u'usca'), (u'#', u'parti', u'agre'), (u'privat', u'right', u'action'), (u'assert', u'district', u'court'), (u'sess', u'#', u'reprint'), (u'procedur', u'act', u'#'), (u'led', u'#', u'court'), (u'fraud', u'unit', u'state'), (u'#', u'ell', u'student'), (u'june', u'#', u'#'), (u'#', u'footnot', u'omit'), (u'relief', u'district', u'court'), (u'bear', u'reason', u'relationship'), (u'see', u'id', u'#'), (u'e', u'#', u'#'), (u'rr', u'co', u'#'), (u'court', u'reject', u'argument'), (u'govern', u'admiss', u'confess'), (u'inc', u'v', u'unit'), (u'sct', u'#', u'defend'), (u'first', u'nation', u'bank'), (u'act', u'#', u'usca'), (u'eg', u'unit', u'state'), (u'v', u'doe', u'#'), (u'c', u'#', u'cir'), (u'#', u'decemb', u'#'), (u'#', u'septemb', u'#'), (u'cir', u'#', u'citat'), (u'violat', u'due', u'process'), (u'inc', u'#', u'f3d'), (u'#', u'clayton', u'act'), (u'safeti', u'applianc', u'act'), (u'p2d', u'#', u'#'), (u'total', u'perman', u'disabl'), (u'#', u'#', u'statement'), (u'news', u'#', u'#'), (u'increment', u'cost', u'ell'), (u'act', u'#', u'pub'), (u'ceas', u'desist', u'order'), (u'hamilton', u'municip', u'court'), (u'#', u'act', u'#'), (u'#', u'#', u'order'), (u'district', u'court', u'issu'), (u'proceed', u'consist', u'opinion'), (u'review', u'de', u'novo'), (u'id', u'emphasi', u'ad'), (u'triabl', u'issu', u'fact'), (u'v', u'lewi', u'#'), (u'revenu', u'code', u'#'), (u'accord', u'district', u'court'), (u'v', u'u', u'#'), (u'give', u'district', u'court'), (u'district', u'court', u'decis'), (u'view', u'stock', u'ownership'), (u'virginia', u'parol', u'board'), (u'#', u'per', u'student'), (u'mojav', u'nation', u'preserv'), (u'unfair', u'labor', u'practic'), (u'therefor', u'district', u'court'), (u'woman', u'abort', u'decis'), (u'sch', u'dist', u'#'), (u'right', u'act', u'#'), (u'state', u'caus', u'action'), (u'district', u'court', u'preliminari'), (u'citi', u'new', u'york'), (u'#', u'led2d', u'#'), (u'v', u'gibson', u'#'), (u'l', u'ed', u'#'), (u'specif', u'direct', u'answer'), (u'intern', u'quotat', u'mark'), (u'#', u'frd', u'#'), (u'confess', u'feder', u'court'), (u'held', u'district', u'court'), (u'#', u'#', u'file'), (u'proceed', u'district', u'court'), (u'apr', u'#', u'#'), (u'california', u'transfer', u'rule'), (u'inc', u'#', u'cir'), (u'fred', u'goodson', u'carl'), (u'quinaielt', u'indian', u'reserv'), (u'provid', u'section', u'#'), (u'intend', u'take', u'effect'), (u'revers', u'part', u'remand'), (u'v', u'superior', u'court'), (u'entitl', u'judgment', u'matter'), (u'#', u'novemb', u'#'), (u'lesser', u'includ', u'offens'), (u'et', u'seq', u'#'), (u'cong', u'admin', u'news'), (u'#', u'wall', u'#'), (u'state', u'board', u'educ'), (u'defer', u'vest', u'benefit'), (u'court', u'appeal', u'district'), (u'4th', u'cir', u'#'), (u'district', u'court', u'jurisdict'), (u'#', u'#', u'sct'), (u'#', u'#', u'accord'), (u'seminol', u'tribe', u'#'), (u'reduct', u'permiss', u'exposur'), (u'appeal', u'suprem', u'court'), (u'district', u'court', u'judgment'), (u'govern', u'motion', u'reconsider'), (u'v', u'taylor', u'#'), (u'violat', u'antitrust', u'law'), (u'inc', u'v', u'citi'), (u'unit', u'state', u'suprem'), (u'land', u'exchang', u'#'), (u'jurisdict', u'feder', u'court'), (u'cong', u'rec', u'#'), (u'slip', u'op', u'#'), (u'c', u'#', u'#'), (u'#', u'octob', u'#'), (u'#', u'mass', u'#'), (u'#', u'cl', u'#'), (u'cir', u'#', u'unit'), (u'feder', u'court', u'review'), (u'ration', u'basi', u'review'), (u'state', u'id', u'#'), (u'limit', u'#', u'ppm'), (u'mfg', u'co', u'#'), (u'#', u'#', u'petition'), (u'#', u'new', u'york'), (u'motor', u'track', u'car'), (u'usc', u'section', u'#'), (u'basi', u'district', u'court'), (u'#', u'4th', u'cir'), (u'v', u'wixon', u'supra'), (u'citizen', u'unit', u'state'), (u'#', u'#', u'supra'), (u'#', u'#', u'cert'), (u'#', u'#', u'reissu'), (u'app', u'dc', u'#'), (u'sept', u'#', u'#'), (u'file', u'pretrial', u'motion'), (u'howev', u'district', u'court'), (u'circuit', u'judg', u'appeal'), (u'evid', u'district', u'court'), (u'intent', u'creat', u'privat'), (u'#', u'harv', u'lrev'), (u'harbor', u'worker', u'compens'), (u'#', u'usca', u'#'), (u'ry', u'co', u'#'), (u'co', u'#', u'cir'), (u'#', u'u', u'#'), (u'defin', u'section', u'#'), (u'good', u'newsgood', u'sport'), (u'commiss', u'found', u'petition'), (u'reach', u'differ', u'conclus'), (u'district', u'court', u'case'), (u'law', u'new', u'york'), (u'nys2d', u'#', u'#'), (u'fact', u'conclus', u'law'), (u'racial', u'discriminatori', u'effect'), (u'co', u'#', u'f3d'), (u'english', u'languag', u'learner'), (u'ohio', u'rev', u'code'), (u'make', u'prima', u'faci'), (u'app3d', u'#', u'#'), (u'enter', u'unit', u'state'), (u'id', u'#', u'#'), (u'#', u'april', u'#'), (u'us', u'page', u'#'), (u'app', u'div', u'#'), (u'admin', u'news', u'#'), (u'depart', u'labor', u'#'), (u'#', u'us', u'#'), (u'rule', u'#', u'#'), (u'made', u'regular', u'cours'), (u'#', u'#', u'appeal'), (u'de', u'novo', u'district'), (u'1st', u'sess', u'#'), (u'#', u'3d', u'cir'), (u'section', u'#', u'act'), (u'enact', u'section', u'#'), (u'contend', u'district', u'court'), (u'v', u'arizona', u'#'), (u'trust', u'co', u'#'), (u'#', u'#', u'act'), (u'#', u'9th', u'cir1994'), (u'#', u'#', u'march'), (u'district', u'court', u'exercis'), (u'transfer', u'rule', u'conflict'), (u'subject', u'reciproc', u'compens'), (u'whether', u'interconnect', u'agreement'), (u'oconnor', u'j', u'dissent'), (u'bronx', u'household', u'faith'), (u'#', u'reprint', u'#'), (u'econom', u'viabl', u'use'), (u'suprem', u'court', u'opinion'), (u'fred', u'goodson', u'maria'), (u'district', u'new', u'york'), (u'sole', u'crimin', u'purpos'), (u'act', u'march', u'#'), (u'unit', u'state', u'unit'), (u'#', u'wheat', u'#'), (u'court', u'said', u'#'), (u'cert', u'#', u'#'), (u'english', u'immers', u'fund'), (u'f2d', u'#', u'cert'), (u'unit', u'state', u'supra'), (u'#', u'nys2d', u'#'), (u'civil', u'procedur', u'#'), (u'oil', u'co', u'#'), (u'oil', u'gas', u'leas'), (u'law', u'unit', u'state'), (u'undu', u'burden', u'woman'), (u'#', u'1st', u'cir'), (u'evid', u'found', u'result'), (u'#', u'ex', u'part'), (u'trial', u'district', u'court'), (u'unit', u'state', u'constitut'), (u'suprem', u'court', u'case'), (u'ct', u'#', u'#'), (u'cite', u'unit', u'state'), (u'determin', u'made', u'state'), (u'f', u'c', u'supra'), (u'#', u'sw2d', u'#'), (u'v', u'first', u'nation'), (u'court', u'deni', u'motion'), (u'substanti', u'risk', u'juri'), (u'#', u'state', u'court'), (u'law', u'#', u'#'), (u'beyond', u'reason', u'doubt'), (u'#', u'4th', u'cir1997'), (u'reduc', u'permiss', u'exposur'), (u'argu', u'district', u'court'), (u'violat', u'#', u'usca'), (u'9th', u'cir', u'#'), (u'find', u'clear', u'erron'), (u'unit', u'state', u'attorney'), (u'handl', u'less', u'carload'), (u'part', u'district', u'court'), (u'violat', u'section', u'#'), (u'id', u'#', u'sct'), (u'suit', u'feder', u'court'), (u'court', u'instruct', u'juri'), (u'#', u'#', u'led2d'), (u'#', u'#', u'congress'), (u'#', u'year', u'age'), (u'#', u'emphasi', u'origin'), (u'fed', u'revid', u'#'), (u'#', u'b', u'#'), (u'court', u'abus', u'discret'), (u'rciv', u'p', u'#'), (u'#', u'#', u'section'), (u'wl', u'#', u'#'), (u'good', u'news', u'club'), (u'#', u'ppm', u'#'), (u'#', u'sct', u'#'), (u'led', u'#', u'unit'), (u'#', u'#', u'nys'), (u'#', u'may', u'#'), (u'consum', u'product', u'safeti'), (u'#', u'district', u'court'), (u'2d', u'cir', u'cert'), (u'whether', u'district', u'court'), (u'co', u'inc', u'#'), (u'nation', u'act', u'#'), (u'opinion', u'district', u'court'), (u'ne2d', u'#', u'#'), (u'br', u'#', u'#'), (u'issu', u'materi', u'fact'), (u'fair', u'market', u'valu'), (u'#', u'11th', u'cir'), (u'court', u'compet', u'jurisdict'), (u'fsupp', u'#', u'#'), (u'#', u'column', u'#'), (u'superior', u'court', u'#'), (u'make', u'posit', u'contribut'), (u'#', u'#', u'ne2d'), (u'reason', u'assur', u'safeti'), (u'temporari', u'restrain', u'order'), (u'de', u'novo', u'review'), (u'requir', u'district', u'court'), (u'exhaust', u'administr', u'remedi'), (u'interst', u'commerc', u'act'), (u'bell', u'tel', u'co'), (u'state', u'suprem', u'court'), (u'mistak', u'determin', u'fact'), (u'grant', u'defend', u'motion'), (u'labor', u'relat', u'board'), (u'payment', u'attorney', u'fee'), (u'district', u'court', u'agre'), (u'motion', u'dismiss', u'complaint'), (u'v', u'maryland', u'#'), (u'#', u'#', u'codifi'), (u'cir', u'#', u'#'), (u'american', u'sureti', u'compani'), (u'#', u'affirm', u'#'), (u'harv', u'lrev', u'#'), (u'#', u'#', u'f3d'), (u'part', u'young', u'#'), (u'group', u'b', u'weight'), (u'court', u'enter', u'judgment'), (u'#', u'citat', u'omit'), (u'revers', u'district', u'court'), (u'invers', u'condemn', u'claim'), (u'act', u'octob', u'#'), (u'legitim', u'expect', u'privaci'), (u'administr', u'procedur', u'act'), (u'suspens', u'act', u'appli'), (u'court', u'found', u'#'), (u'less', u'carload', u'freight'), (u'8th', u'cir', u'#'), (u'#', u'usc', u'section'), (u'#', u'reissu', u'patent'), (u'#', u'per', u'cent'), (u'#', u'line', u'#'), (u'howev', u'suprem', u'court'), (u'appeal', u'unit', u'state'), (u'judg', u'learn', u'hand'), (u'v', u'washington', u'#'), (u'opinion', u'suprem', u'court'), (u'new', u'york', u'law'), (u'safe', u'health', u'employ'), (u'note', u'suprem', u'court'), (u'conley', u'v', u'gibson'), (u'lack', u'person', u'jurisdict'), (u'suprem', u'court', u'state'), (u'affirm', u'judgment', u'district'), (u'stat', u'#', u'#'), (u'belong', u'unit', u'state'), (u'fifth', u'amend', u'privileg'), (u'code', u'#', u'usca'), (u'mean', u'section', u'#'), (u'revers', u'case', u'remand'), (u'educ', u'associ', u'#'), (u'file', u'notic', u'appeal'), (u'n', u'#', u'#'), (u'within', u'mean', u'act'), (u'sess', u'#', u'#'), (u'f2d', u'#', u'unit'), (u'tc', u'#', u'#'), (u'land', u'titl', u'trust'), (u'#', u'ill', u'#'), (u'declaratori', u'judgment', u'action'), (u'section', u'#', u'section'), (u'constitut', u'partial', u'termin'), (u'feder', u'communic', u'commiss'), (u'f2d', u'#', u'court'), (u'owner', u'tsg', u'ltd'), (u'substanti', u'injuri', u'effect'), (u'medic', u'needi', u'group'), (u'termin', u'licens', u'agreement'), (u'manifest', u'disregard', u'doctrin'), (u'action', u'feder', u'court'), (u'court', u'northern', u'district'), (u'#', u'ny', u'#'), (u'legisl', u'histori', u'act'), (u'et', u'al', u'#'), (u'suprem', u'court', u'consid'), (u'district', u'court', u'conclud'), (u'fda', u'jurisdict', u'tobacco'), (u'court', u'grant', u'motion'), (u'rule', u'crimin', u'procedur'), (u'ch', u'#', u'#'), (u'led2d', u'#', u'#'), (u'social', u'secur', u'act'), (u'#', u'#', u'unit'), (u'#', u'#', u'statut'), (u'substanti', u'evid', u'support'), (u'#', u'#', u'cir'), (u'pendent', u'state', u'claim'), (u'suprem', u'court', u'decis'), (u'forc', u'unit', u'state'), (u'titl', u'vii', u'claim'), (u'court', u'subject', u'matter'), (u'novo', u'district', u'court'), (u'district', u'court', u'order'), (u'find', u'abus', u'discret'), (u'decemb', u'#', u'#'), (u'cfr', u'#', u'#'), (u'#', u'f3d', u'#'), (u'must', u'set', u'asid'), (u'fsupp', u'#', u'affirm'), (u'suffici', u'evid', u'support'), (u'suprem', u'court', u'#'), (u'v', u'thompson', u'#'), (u'york', u'time', u'co'), (u'compel', u'state', u'interest'), (u'cf', u'unit', u'state'), (u'#', u'#', u'claim'), (u'v', u'collin', u'#'), (u'bridg', u'v', u'wixon'), (u'#', u'#', u'a2d'), (u'new', u'gaswel', u'gas'), (u'#', u'#', u'conclud'), (u'author', u'enact', u'#'), (u'rule', u'civil', u'procedur'), (u'usapp', u'dc', u'#'), (u'permit', u'class', u'arbitr'), (u'faith', u'#', u'f3d'), (u'ongo', u'violat', u'feder'), (u'#', u'plural', u'opinion'), (u'#', u'west', u'#'), (u'district', u'court', u'err'), (u'#', u'5th', u'cir'), (u'duferco', u'#', u'f3d'), (u'#', u'present', u'case'), (u'reg', u'#', u'#'), (u'bl', u'#', u'#'), (u'#', u'#', u'regul'), (u'action', u'district', u'court'), (u'nation', u'bank', u'#'), (u'unit', u'state', u'agenc'), (u'court', u'eastern', u'district'), (u'rs', u'#', u'#'), (u'v', u'commission', u'#'), (u'l', u'#', u'#'), (u'code', u'#', u'#'), (u'p', u'#', u'#'), (u'ill', u'#', u'#'), (u'infring', u'unregist', u'copyright'), (u'#', u'school', u'year'), (u'decis', u'suprem', u'court'), (u'rang', u'#', u'#'), (u'#', u'court', u'conclud'), (u'structur', u'english', u'immers'), (u'nation', u'bank', u'valdosta'), (u'privat', u'caus', u'action'), (u'constitut', u'undu', u'burden'), (u'right', u'enforc', u'contract'), (u'#', u'januari', u'#'), (u'unit', u'state', u'district'), (u'dc', u'#', u'#'), (u'within', u'two', u'year'), (u'#', u'#', u'juli'), (u'district', u'court', u'grant'), (u'#', u'august', u'#'), (u'sct', u'page', u'#'), (u'caus', u'remand', u'district')])\n"
     ]
    },
    {
     "data": {
      "text/html": [
       "<div>\n",
       "<table border=\"1\" class=\"dataframe\">\n",
       "  <thead>\n",
       "    <tr style=\"text-align: right;\">\n",
       "      <th></th>\n",
       "      <th>(#, #, #)</th>\n",
       "      <th>(#, #, a2d)</th>\n",
       "      <th>(#, #, accord)</th>\n",
       "      <th>(#, #, act)</th>\n",
       "      <th>(#, #, addit)</th>\n",
       "      <th>(#, #, affirm)</th>\n",
       "      <th>(#, #, alr)</th>\n",
       "      <th>(#, #, appeal)</th>\n",
       "      <th>(#, #, appli)</th>\n",
       "      <th>(#, #, bankr)</th>\n",
       "      <th>...</th>\n",
       "      <th>(wl, #, #)</th>\n",
       "      <th>(woman, abort, decis)</th>\n",
       "      <th>(worker, compens, act)</th>\n",
       "      <th>(would, entitl, relief)</th>\n",
       "      <th>(writ, habea, corpus)</th>\n",
       "      <th>(year, #, #)</th>\n",
       "      <th>(year, discharg, debt)</th>\n",
       "      <th>(york, casualti, compani)</th>\n",
       "      <th>(york, time, co)</th>\n",
       "      <th>(¶, #, #)</th>\n",
       "    </tr>\n",
       "  </thead>\n",
       "  <tbody>\n",
       "    <tr>\n",
       "      <th>0</th>\n",
       "      <td>NaN</td>\n",
       "      <td>NaN</td>\n",
       "      <td>NaN</td>\n",
       "      <td>NaN</td>\n",
       "      <td>NaN</td>\n",
       "      <td>NaN</td>\n",
       "      <td>NaN</td>\n",
       "      <td>NaN</td>\n",
       "      <td>NaN</td>\n",
       "      <td>NaN</td>\n",
       "      <td>...</td>\n",
       "      <td>NaN</td>\n",
       "      <td>NaN</td>\n",
       "      <td>NaN</td>\n",
       "      <td>NaN</td>\n",
       "      <td>NaN</td>\n",
       "      <td>NaN</td>\n",
       "      <td>NaN</td>\n",
       "      <td>NaN</td>\n",
       "      <td>NaN</td>\n",
       "      <td>NaN</td>\n",
       "    </tr>\n",
       "    <tr>\n",
       "      <th>1</th>\n",
       "      <td>2.0</td>\n",
       "      <td>NaN</td>\n",
       "      <td>NaN</td>\n",
       "      <td>NaN</td>\n",
       "      <td>NaN</td>\n",
       "      <td>NaN</td>\n",
       "      <td>NaN</td>\n",
       "      <td>NaN</td>\n",
       "      <td>NaN</td>\n",
       "      <td>NaN</td>\n",
       "      <td>...</td>\n",
       "      <td>NaN</td>\n",
       "      <td>NaN</td>\n",
       "      <td>NaN</td>\n",
       "      <td>NaN</td>\n",
       "      <td>NaN</td>\n",
       "      <td>NaN</td>\n",
       "      <td>NaN</td>\n",
       "      <td>NaN</td>\n",
       "      <td>NaN</td>\n",
       "      <td>NaN</td>\n",
       "    </tr>\n",
       "    <tr>\n",
       "      <th>2</th>\n",
       "      <td>NaN</td>\n",
       "      <td>NaN</td>\n",
       "      <td>NaN</td>\n",
       "      <td>NaN</td>\n",
       "      <td>NaN</td>\n",
       "      <td>NaN</td>\n",
       "      <td>NaN</td>\n",
       "      <td>NaN</td>\n",
       "      <td>NaN</td>\n",
       "      <td>NaN</td>\n",
       "      <td>...</td>\n",
       "      <td>NaN</td>\n",
       "      <td>NaN</td>\n",
       "      <td>NaN</td>\n",
       "      <td>NaN</td>\n",
       "      <td>NaN</td>\n",
       "      <td>NaN</td>\n",
       "      <td>NaN</td>\n",
       "      <td>NaN</td>\n",
       "      <td>NaN</td>\n",
       "      <td>NaN</td>\n",
       "    </tr>\n",
       "    <tr>\n",
       "      <th>3</th>\n",
       "      <td>4.0</td>\n",
       "      <td>NaN</td>\n",
       "      <td>NaN</td>\n",
       "      <td>NaN</td>\n",
       "      <td>NaN</td>\n",
       "      <td>NaN</td>\n",
       "      <td>NaN</td>\n",
       "      <td>NaN</td>\n",
       "      <td>NaN</td>\n",
       "      <td>NaN</td>\n",
       "      <td>...</td>\n",
       "      <td>NaN</td>\n",
       "      <td>NaN</td>\n",
       "      <td>NaN</td>\n",
       "      <td>NaN</td>\n",
       "      <td>NaN</td>\n",
       "      <td>2.0</td>\n",
       "      <td>NaN</td>\n",
       "      <td>NaN</td>\n",
       "      <td>NaN</td>\n",
       "      <td>NaN</td>\n",
       "    </tr>\n",
       "    <tr>\n",
       "      <th>4</th>\n",
       "      <td>NaN</td>\n",
       "      <td>NaN</td>\n",
       "      <td>NaN</td>\n",
       "      <td>NaN</td>\n",
       "      <td>NaN</td>\n",
       "      <td>NaN</td>\n",
       "      <td>NaN</td>\n",
       "      <td>NaN</td>\n",
       "      <td>NaN</td>\n",
       "      <td>NaN</td>\n",
       "      <td>...</td>\n",
       "      <td>NaN</td>\n",
       "      <td>NaN</td>\n",
       "      <td>NaN</td>\n",
       "      <td>NaN</td>\n",
       "      <td>NaN</td>\n",
       "      <td>NaN</td>\n",
       "      <td>NaN</td>\n",
       "      <td>NaN</td>\n",
       "      <td>NaN</td>\n",
       "      <td>NaN</td>\n",
       "    </tr>\n",
       "  </tbody>\n",
       "</table>\n",
       "<p>5 rows × 1000 columns</p>\n",
       "</div>"
      ],
      "text/plain": [
       "   (#, #, #)  (#, #, a2d)  (#, #, accord)  (#, #, act)  (#, #, addit)  \\\n",
       "0        NaN          NaN             NaN          NaN            NaN   \n",
       "1        2.0          NaN             NaN          NaN            NaN   \n",
       "2        NaN          NaN             NaN          NaN            NaN   \n",
       "3        4.0          NaN             NaN          NaN            NaN   \n",
       "4        NaN          NaN             NaN          NaN            NaN   \n",
       "\n",
       "   (#, #, affirm)  (#, #, alr)  (#, #, appeal)  (#, #, appli)  (#, #, bankr)  \\\n",
       "0             NaN          NaN             NaN            NaN            NaN   \n",
       "1             NaN          NaN             NaN            NaN            NaN   \n",
       "2             NaN          NaN             NaN            NaN            NaN   \n",
       "3             NaN          NaN             NaN            NaN            NaN   \n",
       "4             NaN          NaN             NaN            NaN            NaN   \n",
       "\n",
       "     ...      (wl, #, #)  (woman, abort, decis)  (worker, compens, act)  \\\n",
       "0    ...             NaN                    NaN                     NaN   \n",
       "1    ...             NaN                    NaN                     NaN   \n",
       "2    ...             NaN                    NaN                     NaN   \n",
       "3    ...             NaN                    NaN                     NaN   \n",
       "4    ...             NaN                    NaN                     NaN   \n",
       "\n",
       "   (would, entitl, relief)  (writ, habea, corpus)  (year, #, #)  \\\n",
       "0                      NaN                    NaN           NaN   \n",
       "1                      NaN                    NaN           NaN   \n",
       "2                      NaN                    NaN           NaN   \n",
       "3                      NaN                    NaN           2.0   \n",
       "4                      NaN                    NaN           NaN   \n",
       "\n",
       "   (year, discharg, debt)  (york, casualti, compani)  (york, time, co)  \\\n",
       "0                     NaN                        NaN               NaN   \n",
       "1                     NaN                        NaN               NaN   \n",
       "2                     NaN                        NaN               NaN   \n",
       "3                     NaN                        NaN               NaN   \n",
       "4                     NaN                        NaN               NaN   \n",
       "\n",
       "   (¶, #, #)  \n",
       "0        NaN  \n",
       "1        NaN  \n",
       "2        NaN  \n",
       "3        NaN  \n",
       "4        NaN  \n",
       "\n",
       "[5 rows x 1000 columns]"
      ]
     },
     "execution_count": 20,
     "metadata": {},
     "output_type": "execute_result"
    }
   ],
   "source": [
    "num_features=1000\n",
    "sorted_terms = sorted(terms, key=terms.get, reverse=True)[:num_features]\n",
    "\n",
    "vocab = set(x for x in sorted_terms)\n",
    "print vocab\n",
    "tr = {}\n",
    "\n",
    "cleaned_freqs = []\n",
    "ids=[]\n",
    "index=0\n",
    "for doc in df['normalized_doc']:\n",
    "    triword =  [t for t in nltk.trigrams(doc)]\n",
    "    tr={}\n",
    "    for trigram in triword:\n",
    "        if trigram in vocab:\n",
    "            if trigram in tr:\n",
    "                tr[trigram]+=1\n",
    "            else:\n",
    "                tr[trigram]=1\n",
    "    cleaned_freqs.append(tr)\n",
    "    ids.append(df['id'].iloc[index])\n",
    "    index+=1\n",
    "    \n",
    "#features = pd.DataFrame({'id':ids, \"freqs\":cleaned_freqs})\n",
    "features = pd.DataFrame(cleaned_freqs)\n",
    "\n",
    "features.head()"
   ]
  },
  {
   "cell_type": "code",
   "execution_count": 21,
   "metadata": {},
   "outputs": [
    {
     "data": {
      "text/html": [
       "<div>\n",
       "<table border=\"1\" class=\"dataframe\">\n",
       "  <thead>\n",
       "    <tr style=\"text-align: right;\">\n",
       "      <th></th>\n",
       "      <th>(#, #, #)</th>\n",
       "      <th>(#, #, a2d)</th>\n",
       "      <th>(#, #, accord)</th>\n",
       "      <th>(#, #, act)</th>\n",
       "      <th>(#, #, addit)</th>\n",
       "      <th>(#, #, affirm)</th>\n",
       "      <th>(#, #, alr)</th>\n",
       "      <th>(#, #, appeal)</th>\n",
       "      <th>(#, #, appli)</th>\n",
       "      <th>(#, #, bankr)</th>\n",
       "      <th>...</th>\n",
       "      <th>(wl, #, #)</th>\n",
       "      <th>(woman, abort, decis)</th>\n",
       "      <th>(worker, compens, act)</th>\n",
       "      <th>(would, entitl, relief)</th>\n",
       "      <th>(writ, habea, corpus)</th>\n",
       "      <th>(year, #, #)</th>\n",
       "      <th>(year, discharg, debt)</th>\n",
       "      <th>(york, casualti, compani)</th>\n",
       "      <th>(york, time, co)</th>\n",
       "      <th>(¶, #, #)</th>\n",
       "    </tr>\n",
       "  </thead>\n",
       "  <tbody>\n",
       "    <tr>\n",
       "      <th>0</th>\n",
       "      <td>0.000000</td>\n",
       "      <td>0.0</td>\n",
       "      <td>0.0</td>\n",
       "      <td>0.0</td>\n",
       "      <td>0.0</td>\n",
       "      <td>0.0</td>\n",
       "      <td>0.0</td>\n",
       "      <td>0.0</td>\n",
       "      <td>0.0</td>\n",
       "      <td>0.0</td>\n",
       "      <td>...</td>\n",
       "      <td>0.0</td>\n",
       "      <td>0.0</td>\n",
       "      <td>0.0</td>\n",
       "      <td>0.0</td>\n",
       "      <td>0.0</td>\n",
       "      <td>0.000000</td>\n",
       "      <td>0.0</td>\n",
       "      <td>0.0</td>\n",
       "      <td>0.0</td>\n",
       "      <td>0.0</td>\n",
       "    </tr>\n",
       "    <tr>\n",
       "      <th>1</th>\n",
       "      <td>0.200704</td>\n",
       "      <td>0.0</td>\n",
       "      <td>0.0</td>\n",
       "      <td>0.0</td>\n",
       "      <td>0.0</td>\n",
       "      <td>0.0</td>\n",
       "      <td>0.0</td>\n",
       "      <td>0.0</td>\n",
       "      <td>0.0</td>\n",
       "      <td>0.0</td>\n",
       "      <td>...</td>\n",
       "      <td>0.0</td>\n",
       "      <td>0.0</td>\n",
       "      <td>0.0</td>\n",
       "      <td>0.0</td>\n",
       "      <td>0.0</td>\n",
       "      <td>0.000000</td>\n",
       "      <td>0.0</td>\n",
       "      <td>0.0</td>\n",
       "      <td>0.0</td>\n",
       "      <td>0.0</td>\n",
       "    </tr>\n",
       "    <tr>\n",
       "      <th>2</th>\n",
       "      <td>0.000000</td>\n",
       "      <td>0.0</td>\n",
       "      <td>0.0</td>\n",
       "      <td>0.0</td>\n",
       "      <td>0.0</td>\n",
       "      <td>0.0</td>\n",
       "      <td>0.0</td>\n",
       "      <td>0.0</td>\n",
       "      <td>0.0</td>\n",
       "      <td>0.0</td>\n",
       "      <td>...</td>\n",
       "      <td>0.0</td>\n",
       "      <td>0.0</td>\n",
       "      <td>0.0</td>\n",
       "      <td>0.0</td>\n",
       "      <td>0.0</td>\n",
       "      <td>0.000000</td>\n",
       "      <td>0.0</td>\n",
       "      <td>0.0</td>\n",
       "      <td>0.0</td>\n",
       "      <td>0.0</td>\n",
       "    </tr>\n",
       "    <tr>\n",
       "      <th>3</th>\n",
       "      <td>0.401408</td>\n",
       "      <td>0.0</td>\n",
       "      <td>0.0</td>\n",
       "      <td>0.0</td>\n",
       "      <td>0.0</td>\n",
       "      <td>0.0</td>\n",
       "      <td>0.0</td>\n",
       "      <td>0.0</td>\n",
       "      <td>0.0</td>\n",
       "      <td>0.0</td>\n",
       "      <td>...</td>\n",
       "      <td>0.0</td>\n",
       "      <td>0.0</td>\n",
       "      <td>0.0</td>\n",
       "      <td>0.0</td>\n",
       "      <td>0.0</td>\n",
       "      <td>5.475906</td>\n",
       "      <td>0.0</td>\n",
       "      <td>0.0</td>\n",
       "      <td>0.0</td>\n",
       "      <td>0.0</td>\n",
       "    </tr>\n",
       "    <tr>\n",
       "      <th>4</th>\n",
       "      <td>0.000000</td>\n",
       "      <td>0.0</td>\n",
       "      <td>0.0</td>\n",
       "      <td>0.0</td>\n",
       "      <td>0.0</td>\n",
       "      <td>0.0</td>\n",
       "      <td>0.0</td>\n",
       "      <td>0.0</td>\n",
       "      <td>0.0</td>\n",
       "      <td>0.0</td>\n",
       "      <td>...</td>\n",
       "      <td>0.0</td>\n",
       "      <td>0.0</td>\n",
       "      <td>0.0</td>\n",
       "      <td>0.0</td>\n",
       "      <td>0.0</td>\n",
       "      <td>0.000000</td>\n",
       "      <td>0.0</td>\n",
       "      <td>0.0</td>\n",
       "      <td>0.0</td>\n",
       "      <td>0.0</td>\n",
       "    </tr>\n",
       "  </tbody>\n",
       "</table>\n",
       "<p>5 rows × 1000 columns</p>\n",
       "</div>"
      ],
      "text/plain": [
       "   (#, #, #)  (#, #, a2d)  (#, #, accord)  (#, #, act)  (#, #, addit)  \\\n",
       "0   0.000000          0.0             0.0          0.0            0.0   \n",
       "1   0.200704          0.0             0.0          0.0            0.0   \n",
       "2   0.000000          0.0             0.0          0.0            0.0   \n",
       "3   0.401408          0.0             0.0          0.0            0.0   \n",
       "4   0.000000          0.0             0.0          0.0            0.0   \n",
       "\n",
       "   (#, #, affirm)  (#, #, alr)  (#, #, appeal)  (#, #, appli)  (#, #, bankr)  \\\n",
       "0             0.0          0.0             0.0            0.0            0.0   \n",
       "1             0.0          0.0             0.0            0.0            0.0   \n",
       "2             0.0          0.0             0.0            0.0            0.0   \n",
       "3             0.0          0.0             0.0            0.0            0.0   \n",
       "4             0.0          0.0             0.0            0.0            0.0   \n",
       "\n",
       "     ...      (wl, #, #)  (woman, abort, decis)  (worker, compens, act)  \\\n",
       "0    ...             0.0                    0.0                     0.0   \n",
       "1    ...             0.0                    0.0                     0.0   \n",
       "2    ...             0.0                    0.0                     0.0   \n",
       "3    ...             0.0                    0.0                     0.0   \n",
       "4    ...             0.0                    0.0                     0.0   \n",
       "\n",
       "   (would, entitl, relief)  (writ, habea, corpus)  (year, #, #)  \\\n",
       "0                      0.0                    0.0      0.000000   \n",
       "1                      0.0                    0.0      0.000000   \n",
       "2                      0.0                    0.0      0.000000   \n",
       "3                      0.0                    0.0      5.475906   \n",
       "4                      0.0                    0.0      0.000000   \n",
       "\n",
       "   (year, discharg, debt)  (york, casualti, compani)  (york, time, co)  \\\n",
       "0                     0.0                        0.0               0.0   \n",
       "1                     0.0                        0.0               0.0   \n",
       "2                     0.0                        0.0               0.0   \n",
       "3                     0.0                        0.0               0.0   \n",
       "4                     0.0                        0.0               0.0   \n",
       "\n",
       "   (¶, #, #)  \n",
       "0        0.0  \n",
       "1        0.0  \n",
       "2        0.0  \n",
       "3        0.0  \n",
       "4        0.0  \n",
       "\n",
       "[5 rows x 1000 columns]"
      ]
     },
     "execution_count": 21,
     "metadata": {},
     "output_type": "execute_result"
    }
   ],
   "source": [
    "# fillna\n",
    "features.fillna(0,inplace=True)\n",
    "# normalize features to unit variance\n",
    "normalized_df=features/features.std()\n",
    "normalized_df.head()"
   ]
  },
  {
   "cell_type": "markdown",
   "metadata": {},
   "source": [
    "### Link to reverse doc"
   ]
  },
  {
   "cell_type": "code",
   "execution_count": 22,
   "metadata": {},
   "outputs": [],
   "source": [
    "import csv\n",
    "with open('RobotJudge/PS1/case_reversed.csv', mode='r') as infile:\n",
    "    reader = csv.reader(infile)\n",
    "\n",
    "    reversed_dict = dict((rows[0],rows[1]) for rows in reader)"
   ]
  },
  {
   "cell_type": "code",
   "execution_count": 23,
   "metadata": {},
   "outputs": [
    {
     "data": {
      "text/html": [
       "<div>\n",
       "<table border=\"1\" class=\"dataframe\">\n",
       "  <thead>\n",
       "    <tr style=\"text-align: right;\">\n",
       "      <th></th>\n",
       "      <th>reversed</th>\n",
       "    </tr>\n",
       "  </thead>\n",
       "  <tbody>\n",
       "    <tr>\n",
       "      <th>7</th>\n",
       "      <td>0</td>\n",
       "    </tr>\n",
       "    <tr>\n",
       "      <th>17</th>\n",
       "      <td>1</td>\n",
       "    </tr>\n",
       "    <tr>\n",
       "      <th>49</th>\n",
       "      <td>0</td>\n",
       "    </tr>\n",
       "    <tr>\n",
       "      <th>105</th>\n",
       "      <td>0</td>\n",
       "    </tr>\n",
       "    <tr>\n",
       "      <th>120</th>\n",
       "      <td>0</td>\n",
       "    </tr>\n",
       "  </tbody>\n",
       "</table>\n",
       "</div>"
      ],
      "text/plain": [
       "    reversed\n",
       "7          0\n",
       "17         1\n",
       "49         0\n",
       "105        0\n",
       "120        0"
      ]
     },
     "execution_count": 23,
     "metadata": {},
     "output_type": "execute_result"
    }
   ],
   "source": [
    "def add_reversed(doc):\n",
    "    return reversed_dict[doc.split(\"_\")[1].split(\".\")[0]]\n",
    "\n",
    "df['reversed']=df['id'].apply(add_reversed)\n",
    "df[['reversed']].head()"
   ]
  },
  {
   "cell_type": "markdown",
   "metadata": {},
   "source": [
    "### Create training and test set"
   ]
  },
  {
   "cell_type": "code",
   "execution_count": 24,
   "metadata": {},
   "outputs": [],
   "source": [
    "from sklearn.model_selection import train_test_split\n",
    "X_train, X_test, y_train, y_test = train_test_split(normalized_df, df['reversed'], test_size=0.2)"
   ]
  },
  {
   "cell_type": "markdown",
   "metadata": {},
   "source": [
    "### Train a model to predict whether the case was reversed"
   ]
  },
  {
   "cell_type": "code",
   "execution_count": 25,
   "metadata": {},
   "outputs": [
    {
     "name": "stderr",
     "output_type": "stream",
     "text": [
      "/usr/local/lib/python2.7/site-packages/sklearn/linear_model/logistic.py:433: FutureWarning: Default solver will be changed to 'lbfgs' in 0.22. Specify a solver to silence this warning.\n",
      "  FutureWarning)\n"
     ]
    },
    {
     "data": {
      "text/plain": [
       "LogisticRegression(C=1.0, class_weight=None, dual=False, fit_intercept=True,\n",
       "          intercept_scaling=1, max_iter=100, multi_class='warn',\n",
       "          n_jobs=None, penalty='l2', random_state=None, solver='warn',\n",
       "          tol=0.0001, verbose=0, warm_start=False)"
      ]
     },
     "execution_count": 25,
     "metadata": {},
     "output_type": "execute_result"
    }
   ],
   "source": [
    "from sklearn.linear_model import LogisticRegression\n",
    "log_reg = LogisticRegression()\n",
    "log_reg.fit(X_train, y_train)"
   ]
  },
  {
   "cell_type": "code",
   "execution_count": 26,
   "metadata": {},
   "outputs": [
    {
     "data": {
      "text/plain": [
       "0.46"
      ]
     },
     "execution_count": 26,
     "metadata": {},
     "output_type": "execute_result"
    }
   ],
   "source": [
    "log_reg.score(X_test, y_test)"
   ]
  },
  {
   "cell_type": "code",
   "execution_count": 27,
   "metadata": {},
   "outputs": [
    {
     "data": {
      "text/plain": [
       "0.99"
      ]
     },
     "execution_count": 27,
     "metadata": {},
     "output_type": "execute_result"
    }
   ],
   "source": [
    "log_reg.score(X_train, y_train)"
   ]
  },
  {
   "cell_type": "code",
   "execution_count": 28,
   "metadata": {},
   "outputs": [
    {
     "name": "stdout",
     "output_type": "stream",
     "text": [
      "Accuracy train\n",
      "0.99\n",
      "Accuracy test\n",
      "0.46\n",
      "F1 train\n",
      "0.9887779149365952\n",
      "F1 test\n",
      "0.44191814799503926\n"
     ]
    }
   ],
   "source": [
    "from sklearn.metrics import accuracy_score, f1_score\n",
    "y_pred_train = log_reg.predict(X_train)\n",
    "y_pred_test = log_reg.predict(X_test)\n",
    "print \"Accuracy train\"\n",
    "print accuracy_score(y_train, y_pred_train, normalize=True)\n",
    "print \"Accuracy test\"\n",
    "print accuracy_score(y_test, y_pred_test, normalize=True)\n",
    "print \"F1 train\"\n",
    "print f1_score(y_train, y_pred_train, average=\"macro\")\n",
    "print \"F1 test\"\n",
    "print f1_score(y_test, y_pred_test, average=\"macro\")"
   ]
  },
  {
   "cell_type": "code",
   "execution_count": 29,
   "metadata": {},
   "outputs": [
    {
     "name": "stdout",
     "output_type": "stream",
     "text": [
      "{'warm_start': False, 'C': 1.0, 'n_jobs': None, 'verbose': 0, 'intercept_scaling': 1, 'fit_intercept': True, 'max_iter': 100, 'penalty': 'l2', 'multi_class': 'warn', 'random_state': None, 'dual': False, 'tol': 0.0001, 'solver': 'warn', 'class_weight': None}\n",
      "(200, 1000)\n",
      "(200,)\n"
     ]
    }
   ],
   "source": [
    "print log_reg.get_params()\n",
    "print X_train.shape\n",
    "print y_train.shape"
   ]
  },
  {
   "cell_type": "markdown",
   "metadata": {},
   "source": [
    "### Choose best parameters"
   ]
  },
  {
   "cell_type": "code",
   "execution_count": 30,
   "metadata": {
    "scrolled": false
   },
   "outputs": [
    {
     "name": "stderr",
     "output_type": "stream",
     "text": [
      "/usr/local/lib/python2.7/site-packages/sklearn/model_selection/_split.py:2053: FutureWarning: You should specify a value for 'cv' instead of relying on the default value. The default value will change from 3 to 5 in version 0.22.\n",
      "  warnings.warn(CV_WARNING, FutureWarning)\n"
     ]
    },
    {
     "name": "stdout",
     "output_type": "stream",
     "text": [
      "{'penalty': 'l1', 'C': 0.1}\n"
     ]
    },
    {
     "name": "stderr",
     "output_type": "stream",
     "text": [
      "/usr/local/lib/python2.7/site-packages/sklearn/model_selection/_search.py:841: DeprecationWarning: The default of the `iid` parameter will change from True to False in version 0.22 and will be removed in 0.24. This will change numeric results when test-set sizes are unequal.\n",
      "  DeprecationWarning)\n"
     ]
    }
   ],
   "source": [
    "params = {'C':[.1,1,10,11], 'penalty':['l2', 'l1']}\n",
    "from sklearn.model_selection import GridSearchCV\n",
    "\n",
    "grid = GridSearchCV(log_reg,params,n_jobs=-1)\n",
    "grid.fit(X_train, y_train)\n",
    "print grid.best_params_\n",
    "log_reg = grid.best_estimator_\n"
   ]
  },
  {
   "cell_type": "markdown",
   "metadata": {},
   "source": [
    "### Compute ROC and AUC"
   ]
  },
  {
   "cell_type": "code",
   "execution_count": 31,
   "metadata": {},
   "outputs": [
    {
     "data": {
      "image/png": "[encoded data removed]",
      "text/plain": [
       "<matplotlib.figure.Figure at 0x146062250>"
      ]
     },
     "metadata": {},
     "output_type": "display_data"
    }
   ],
   "source": [
    "import numpy as np\n",
    "%matplotlib inline\n",
    "#log_reg.set_params(C=0.1, penalty='l1') # already set\n",
    "y_pred_train = log_reg.predict(X_train)\n",
    "y_pred_test = log_reg.predict(X_test)\n",
    "dec=log_reg.decision_function(X_test)\n",
    "from sklearn.metrics import roc_curve\n",
    "fpr, tpr, thresholds = roc_curve(y_test, dec, pos_label=\"0\")\n",
    "plt.plot(fpr, tpr)\n",
    "plt.plot([0,1],[0,1],'k--')\n",
    "plt.xlabel('False Positive Rate')\n",
    "plt.ylabel('True Positive Rate')\n",
    "plt.show()"
   ]
  },
  {
   "cell_type": "code",
   "execution_count": 32,
   "metadata": {},
   "outputs": [
    {
     "data": {
      "text/plain": [
       "0.5631999999999999"
      ]
     },
     "execution_count": 32,
     "metadata": {},
     "output_type": "execute_result"
    }
   ],
   "source": [
    "from sklearn import metrics\n",
    "metrics.auc(fpr, tpr)"
   ]
  },
  {
   "cell_type": "markdown",
   "metadata": {},
   "source": [
    "### Create df which each sentence as a doc"
   ]
  },
  {
   "cell_type": "code",
   "execution_count": 18,
   "metadata": {},
   "outputs": [
    {
     "data": {
      "text/html": [
       "<div>\n",
       "<table border=\"1\" class=\"dataframe\">\n",
       "  <thead>\n",
       "    <tr style=\"text-align: right;\">\n",
       "      <th></th>\n",
       "      <th>sents</th>\n",
       "    </tr>\n",
       "  </thead>\n",
       "  <tbody>\n",
       "    <tr>\n",
       "      <th>0</th>\n",
       "      <td>PER CURIAM.</td>\n",
       "    </tr>\n",
       "    <tr>\n",
       "      <th>1</th>\n",
       "      <td>McCarver was a (so-called) narcotic inspector.</td>\n",
       "    </tr>\n",
       "    <tr>\n",
       "      <th>2</th>\n",
       "      <td>A prisoner taken by the Detroit police in a ra...</td>\n",
       "    </tr>\n",
       "    <tr>\n",
       "      <th>3</th>\n",
       "      <td>An assault by one upon the other, and an affra...</td>\n",
       "    </tr>\n",
       "    <tr>\n",
       "      <th>4</th>\n",
       "      <td>McCarver was indicted, the fact issue as to in...</td>\n",
       "    </tr>\n",
       "  </tbody>\n",
       "</table>\n",
       "</div>"
      ],
      "text/plain": [
       "                                               sents\n",
       "0                                        PER CURIAM.\n",
       "1     McCarver was a (so-called) narcotic inspector.\n",
       "2  A prisoner taken by the Detroit police in a ra...\n",
       "3  An assault by one upon the other, and an affra...\n",
       "4  McCarver was indicted, the fact issue as to in..."
      ]
     },
     "execution_count": 18,
     "metadata": {},
     "output_type": "execute_result"
    }
   ],
   "source": [
    "new_df=[]\n",
    "for doc in df['doc']:\n",
    "    for sent in doc.sents:\n",
    "        new_df.append([str(sent)])\n",
    "\n",
    "#print new_df\n",
    "df_sent = pd.DataFrame(new_df, columns=['sents'])\n",
    "df_sent.head()"
   ]
  },
  {
   "cell_type": "markdown",
   "metadata": {},
   "source": [
    "### Compute sentiment scores"
   ]
  },
  {
   "cell_type": "code",
   "execution_count": 19,
   "metadata": {},
   "outputs": [
    {
     "data": {
      "text/html": [
       "<div>\n",
       "<table border=\"1\" class=\"dataframe\">\n",
       "  <thead>\n",
       "    <tr style=\"text-align: right;\">\n",
       "      <th></th>\n",
       "      <th>pos</th>\n",
       "      <th>neg</th>\n",
       "    </tr>\n",
       "  </thead>\n",
       "  <tbody>\n",
       "    <tr>\n",
       "      <th>0</th>\n",
       "      <td>0.000</td>\n",
       "      <td>0.000</td>\n",
       "    </tr>\n",
       "    <tr>\n",
       "      <th>1</th>\n",
       "      <td>0.000</td>\n",
       "      <td>0.000</td>\n",
       "    </tr>\n",
       "    <tr>\n",
       "      <th>2</th>\n",
       "      <td>0.091</td>\n",
       "      <td>0.093</td>\n",
       "    </tr>\n",
       "    <tr>\n",
       "      <th>3</th>\n",
       "      <td>0.000</td>\n",
       "      <td>0.485</td>\n",
       "    </tr>\n",
       "    <tr>\n",
       "      <th>4</th>\n",
       "      <td>0.000</td>\n",
       "      <td>0.224</td>\n",
       "    </tr>\n",
       "  </tbody>\n",
       "</table>\n",
       "</div>"
      ],
      "text/plain": [
       "     pos    neg\n",
       "0  0.000  0.000\n",
       "1  0.000  0.000\n",
       "2  0.091  0.093\n",
       "3  0.000  0.485\n",
       "4  0.000  0.224"
      ]
     },
     "execution_count": 19,
     "metadata": {},
     "output_type": "execute_result"
    }
   ],
   "source": [
    "from nltk.sentiment.vader import SentimentIntensityAnalyzer\n",
    "sid = SentimentIntensityAnalyzer()\n",
    "def sentiment_pos(sent):\n",
    "    return sid.polarity_scores(str(sent))['pos']\n",
    "def sentiment_neg(sent):\n",
    "    return sid.polarity_scores(str(sent))['neg']\n",
    "\n",
    "df_sent['pos']=df_sent['sents'].apply(sentiment_pos)\n",
    "df_sent['neg']=df_sent['sents'].apply(sentiment_neg)\n",
    "df_sent[['pos', 'neg']].head()\n"
   ]
  },
  {
   "cell_type": "markdown",
   "metadata": {},
   "source": [
    "### Find sentences with the most positive sentiment"
   ]
  },
  {
   "cell_type": "code",
   "execution_count": 7,
   "metadata": {},
   "outputs": [
    {
     "data": {
      "text/html": [
       "<div>\n",
       "<table border=\"1\" class=\"dataframe\">\n",
       "  <thead>\n",
       "    <tr style=\"text-align: right;\">\n",
       "      <th></th>\n",
       "      <th>pos</th>\n",
       "      <th>sents</th>\n",
       "    </tr>\n",
       "  </thead>\n",
       "  <tbody>\n",
       "    <tr>\n",
       "      <th>5590</th>\n",
       "      <td>1.000</td>\n",
       "      <td>Yes.</td>\n",
       "    </tr>\n",
       "    <tr>\n",
       "      <th>2124</th>\n",
       "      <td>1.000</td>\n",
       "      <td>Yes. \"</td>\n",
       "    </tr>\n",
       "    <tr>\n",
       "      <th>39088</th>\n",
       "      <td>0.773</td>\n",
       "      <td>Liberty Univ.</td>\n",
       "    </tr>\n",
       "    <tr>\n",
       "      <th>33387</th>\n",
       "      <td>0.767</td>\n",
       "      <td>remains strong.</td>\n",
       "    </tr>\n",
       "    <tr>\n",
       "      <th>34026</th>\n",
       "      <td>0.762</td>\n",
       "      <td>Managed Care</td>\n",
       "    </tr>\n",
       "    <tr>\n",
       "      <th>32474</th>\n",
       "      <td>0.752</td>\n",
       "      <td>FAIR Br.</td>\n",
       "    </tr>\n",
       "    <tr>\n",
       "      <th>32463</th>\n",
       "      <td>0.740</td>\n",
       "      <td>The Supreme Court agreed.</td>\n",
       "    </tr>\n",
       "    <tr>\n",
       "      <th>31631</th>\n",
       "      <td>0.730</td>\n",
       "      <td>Yes, sir.</td>\n",
       "    </tr>\n",
       "    <tr>\n",
       "      <th>1106</th>\n",
       "      <td>0.730</td>\n",
       "      <td>Yes, sir. \"</td>\n",
       "    </tr>\n",
       "    <tr>\n",
       "      <th>31681</th>\n",
       "      <td>0.730</td>\n",
       "      <td>Yes, sir.</td>\n",
       "    </tr>\n",
       "  </tbody>\n",
       "</table>\n",
       "</div>"
      ],
      "text/plain": [
       "         pos                      sents\n",
       "5590   1.000                       Yes.\n",
       "2124   1.000                     Yes. \"\n",
       "39088  0.773              Liberty Univ.\n",
       "33387  0.767            remains strong.\n",
       "34026  0.762               Managed Care\n",
       "32474  0.752                   FAIR Br.\n",
       "32463  0.740  The Supreme Court agreed.\n",
       "31631  0.730                  Yes, sir.\n",
       "1106   0.730                Yes, sir. \"\n",
       "31681  0.730                  Yes, sir."
      ]
     },
     "execution_count": 7,
     "metadata": {},
     "output_type": "execute_result"
    }
   ],
   "source": [
    "# Sort the dataframe by pos values\n",
    "df_sent=df_sent.sort_values(by=['pos'], ascending=False)\n",
    "df_sent[['pos', 'sents']].head(10)"
   ]
  },
  {
   "cell_type": "markdown",
   "metadata": {},
   "source": [
    "### Find sentences with the most negative sentiment"
   ]
  },
  {
   "cell_type": "code",
   "execution_count": 36,
   "metadata": {},
   "outputs": [
    {
     "data": {
      "text/html": [
       "<div>\n",
       "<table border=\"1\" class=\"dataframe\">\n",
       "  <thead>\n",
       "    <tr style=\"text-align: right;\">\n",
       "      <th></th>\n",
       "      <th>neg</th>\n",
       "      <th>sents</th>\n",
       "    </tr>\n",
       "  </thead>\n",
       "  <tbody>\n",
       "    <tr>\n",
       "      <th>3048</th>\n",
       "      <td>1.0</td>\n",
       "      <td>No.</td>\n",
       "    </tr>\n",
       "    <tr>\n",
       "      <th>433</th>\n",
       "      <td>1.0</td>\n",
       "      <td>No.</td>\n",
       "    </tr>\n",
       "    <tr>\n",
       "      <th>436</th>\n",
       "      <td>1.0</td>\n",
       "      <td>No.</td>\n",
       "    </tr>\n",
       "    <tr>\n",
       "      <th>36887</th>\n",
       "      <td>1.0</td>\n",
       "      <td>182 )</td>\n",
       "    </tr>\n",
       "    <tr>\n",
       "      <th>423</th>\n",
       "      <td>1.0</td>\n",
       "      <td>No.</td>\n",
       "    </tr>\n",
       "    <tr>\n",
       "      <th>425</th>\n",
       "      <td>1.0</td>\n",
       "      <td>No.</td>\n",
       "    </tr>\n",
       "    <tr>\n",
       "      <th>20456</th>\n",
       "      <td>1.0</td>\n",
       "      <td>No.</td>\n",
       "    </tr>\n",
       "    <tr>\n",
       "      <th>409</th>\n",
       "      <td>1.0</td>\n",
       "      <td>No.</td>\n",
       "    </tr>\n",
       "    <tr>\n",
       "      <th>17468</th>\n",
       "      <td>1.0</td>\n",
       "      <td>No.</td>\n",
       "    </tr>\n",
       "    <tr>\n",
       "      <th>3264</th>\n",
       "      <td>1.0</td>\n",
       "      <td>No.</td>\n",
       "    </tr>\n",
       "  </tbody>\n",
       "</table>\n",
       "</div>"
      ],
      "text/plain": [
       "       neg  sents\n",
       "3048   1.0    No.\n",
       "433    1.0    No.\n",
       "436    1.0    No.\n",
       "36887  1.0  182 )\n",
       "423    1.0    No.\n",
       "425    1.0    No.\n",
       "20456  1.0    No.\n",
       "409    1.0    No.\n",
       "17468  1.0    No.\n",
       "3264   1.0    No."
      ]
     },
     "execution_count": 36,
     "metadata": {},
     "output_type": "execute_result"
    }
   ],
   "source": [
    "# Sort the dataframe by neg values\n",
    "df_sent=df_sent.sort_values(by=['neg'], ascending=False)\n",
    "df_sent[['neg', 'sents']].head(10)"
   ]
  },
  {
   "cell_type": "markdown",
   "metadata": {},
   "source": [
    "### Compute tfidf features"
   ]
  },
  {
   "cell_type": "code",
   "execution_count": 31,
   "metadata": {},
   "outputs": [],
   "source": [
    "# Featurize the data\n",
    "from sklearn.feature_extraction.text import TfidfVectorizer\n",
    "tfidf = TfidfVectorizer(min_df=0.001, # at min .01% of docs\n",
    "                        max_df=0.9,  # at most 90% of docs\n",
    "                        max_features=2000,\n",
    "                        stop_words='english',\n",
    "                        use_idf=True,\n",
    "                        ngram_range=(2,3))\n",
    "#tfidf = TfidfVectorizer()\n",
    "X = tfidf.fit_transform(df_sent['sents'])"
   ]
  },
  {
   "cell_type": "code",
   "execution_count": 21,
   "metadata": {},
   "outputs": [
    {
     "data": {
      "text/html": [
       "<div>\n",
       "<table border=\"1\" class=\"dataframe\">\n",
       "  <thead>\n",
       "    <tr style=\"text-align: right;\">\n",
       "      <th></th>\n",
       "      <th>sents</th>\n",
       "    </tr>\n",
       "  </thead>\n",
       "  <tbody>\n",
       "    <tr>\n",
       "      <th>0</th>\n",
       "      <td>PER CURIAM.</td>\n",
       "    </tr>\n",
       "    <tr>\n",
       "      <th>1</th>\n",
       "      <td>McCarver was a (so-called) narcotic inspector.</td>\n",
       "    </tr>\n",
       "    <tr>\n",
       "      <th>2</th>\n",
       "      <td>A prisoner taken by the Detroit police in a ra...</td>\n",
       "    </tr>\n",
       "    <tr>\n",
       "      <th>3</th>\n",
       "      <td>An assault by one upon the other, and an affra...</td>\n",
       "    </tr>\n",
       "    <tr>\n",
       "      <th>4</th>\n",
       "      <td>McCarver was indicted, the fact issue as to in...</td>\n",
       "    </tr>\n",
       "  </tbody>\n",
       "</table>\n",
       "</div>"
      ],
      "text/plain": [
       "                                               sents\n",
       "0                                        PER CURIAM.\n",
       "1     McCarver was a (so-called) narcotic inspector.\n",
       "2  A prisoner taken by the Detroit police in a ra...\n",
       "3  An assault by one upon the other, and an affra...\n",
       "4  McCarver was indicted, the fact issue as to in..."
      ]
     },
     "execution_count": 21,
     "metadata": {},
     "output_type": "execute_result"
    }
   ],
   "source": [
    "df_sent[['sents']].head()"
   ]
  },
  {
   "cell_type": "code",
   "execution_count": 32,
   "metadata": {},
   "outputs": [],
   "source": [
    "X = X.toarray()"
   ]
  },
  {
   "cell_type": "markdown",
   "metadata": {},
   "source": [
    "### Compute cosine similarities between sentences"
   ]
  },
  {
   "cell_type": "code",
   "execution_count": 33,
   "metadata": {},
   "outputs": [],
   "source": [
    "from sklearn.metrics.pairwise import cosine_similarity\n",
    "sims = cosine_similarity(X)"
   ]
  },
  {
   "cell_type": "code",
   "execution_count": 35,
   "metadata": {},
   "outputs": [],
   "source": [
    "# Get the indices of the similarity matrix for the sorted values\n",
    "idx = np.argsort(sims, axis=None)[::-1]\n",
    "rows, cols = np.unravel_index(idx, sims.shape)\n",
    "\n",
    "a_sorted = sims[rows, cols]"
   ]
  },
  {
   "cell_type": "code",
   "execution_count": 36,
   "metadata": {},
   "outputs": [
    {
     "name": "stdout",
     "output_type": "stream",
     "text": [
      "[1. 1. 1. ... 0. 0. 0.]\n",
      "[1519  136 5166 ... 4069 4069    0]\n",
      "[1475  136 5166 ...   67   68    0]\n"
     ]
    }
   ],
   "source": [
    "print a_sorted\n",
    "print rows\n",
    "print cols"
   ]
  },
  {
   "cell_type": "markdown",
   "metadata": {},
   "source": [
    "### Print pairs of similar sentences based on tfidf features"
   ]
  },
  {
   "cell_type": "code",
   "execution_count": 42,
   "metadata": {},
   "outputs": [
    {
     "name": "stdout",
     "output_type": "stream",
     "text": [
      "A very similar pair:\n",
      "That the United States had a legitimate proprietary interest in insuring the disposal of its surplus materials to veterans in accordance with the announced policy and objectives of the Surplus Property Act, and that it suffered compensable damage under the statute by defendants' manifest perversion of that policy are propositions which have been settled beyond the need for further review.\n",
      "(1) of the Surplus Property Act created a statutory right in the United States to recover liquidated damages which were thought by the Court to be reasonable, we believe that the Court intended to put at rest the \"asserted\" conflict between the circuits.\n",
      "1519\n",
      "1475\n",
      "A very similar pair:\n",
      "It is contended that the opinion of the Supreme Court in United States v. Zucca , 351 U.S. 91 , 76 S.Ct.\n",
      "It is earnestly contended that the Supreme Court of the United States, and this court, have repeatedly held that the ordinances of a municipality, passed in the exercise of a power delegated to it by the state, are to be considered as laws of the state, within the meaning of the constitutional provision that no state shall pass any law impairing the obligation of contracts, citing Iron Mountain R. Co. v. Memphis , 96 F. 113 (C. C. A. 6); Cumberland Tel. & Tel. Co. v. Memphis , 198 F. 955 (three-judge case, D. C. Tenn.); New Orleans Water-Works Co. v. Louisiana Sugar Ref.\n",
      "1341\n",
      "57\n",
      "A very similar pair:\n",
      "It is earnestly contended that the Supreme Court of the United States, and this court, have repeatedly held that the ordinances of a municipality, passed in the exercise of a power delegated to it by the state, are to be considered as laws of the state, within the meaning of the constitutional provision that no state shall pass any law impairing the obligation of contracts, citing Iron Mountain R. Co. v. Memphis , 96 F. 113 (C. C. A. 6); Cumberland Tel. & Tel. Co. v. Memphis , 198 F. 955 (three-judge case, D. C. Tenn.); New Orleans Water-Works Co. v. Louisiana Sugar Ref.\n",
      "That appellee, upon evidence adduced by appellant, could have been held by the jury to be liable, is conclusively established, as it seems to us, by the Supreme Court of the United States.\n",
      "57\n",
      "136\n",
      "A very similar pair:\n",
      "It is earnestly contended that the Supreme Court of the United States, and this court, have repeatedly held that the ordinances of a municipality, passed in the exercise of a power delegated to it by the state, are to be considered as laws of the state, within the meaning of the constitutional provision that no state shall pass any law impairing the obligation of contracts, citing Iron Mountain R. Co. v. Memphis , 96 F. 113 (C. C. A. 6); Cumberland Tel. & Tel. Co. v. Memphis , 198 F. 955 (three-judge case, D. C. Tenn.); New Orleans Water-Works Co. v. Louisiana Sugar Ref.\n",
      "It is contended that the opinion of the Supreme Court in United States v. Zucca , 351 U.S. 91 , 76 S.Ct.\n",
      "57\n",
      "1341\n",
      "A very similar pair:\n",
      "It is contended that the opinion of the Supreme Court in United States v. Zucca , 351 U.S. 91 , 76 S.Ct.\n",
      "That appellee, upon evidence adduced by appellant, could have been held by the jury to be liable, is conclusively established, as it seems to us, by the Supreme Court of the United States.\n",
      "1341\n",
      "136\n",
      "A very similar pair:\n",
      "That appellee, upon evidence adduced by appellant, could have been held by the jury to be liable, is conclusively established, as it seems to us, by the Supreme Court of the United States.\n",
      "It is contended that the opinion of the Supreme Court in United States v. Zucca , 351 U.S. 91 , 76 S.Ct.\n",
      "136\n",
      "1341\n",
      "A very similar pair:\n",
      "This case has been decided against plaintiffs and the Supreme Court has denied their petition for certiorari.\n",
      "The Supreme Court denied plaintiffs' petition for certiorari.\n",
      "4408\n",
      "4717\n",
      "A very similar pair:\n",
      "(1) of the Surplus Property Act created a statutory right in the United States to recover liquidated damages which were thought by the Court to be reasonable, we believe that the Court intended to put at rest the \"asserted\" conflict between the circuits.\n",
      "That the United States had a legitimate proprietary interest in insuring the disposal of its surplus materials to veterans in accordance with the announced policy and objectives of the Surplus Property Act, and that it suffered compensable damage under the statute by defendants' manifest perversion of that policy are propositions which have been settled beyond the need for further review.\n",
      "1475\n",
      "1519\n",
      "A very similar pair:\n",
      "That appellee, upon evidence adduced by appellant, could have been held by the jury to be liable, is conclusively established, as it seems to us, by the Supreme Court of the United States.\n",
      "It is earnestly contended that the Supreme Court of the United States, and this court, have repeatedly held that the ordinances of a municipality, passed in the exercise of a power delegated to it by the state, are to be considered as laws of the state, within the meaning of the constitutional provision that no state shall pass any law impairing the obligation of contracts, citing Iron Mountain R. Co. v. Memphis , 96 F. 113 (C. C. A. 6); Cumberland Tel. & Tel. Co. v. Memphis , 198 F. 955 (three-judge case, D. C. Tenn.); New Orleans Water-Works Co. v. Louisiana Sugar Ref.\n",
      "136\n",
      "57\n",
      "A very similar pair:\n",
      "The Supreme Court denied plaintiffs' petition for certiorari.\n",
      "This case has been decided against plaintiffs and the Supreme Court has denied their petition for certiorari.\n",
      "4717\n",
      "4408\n"
     ]
    }
   ],
   "source": [
    "toprint=10\n",
    "used_sentences=[]\n",
    "for k in range(0, len(a_sorted)):\n",
    "    if toprint>0 and rows[k]!=cols[k]: # make sure you're not prinitng the same sent as that has the highest score\n",
    "        toprint-=1\n",
    "        print \"A very similar pair:\"\n",
    "        print df_sent['sents'][rows[k]]\n",
    "        print df_sent['sents'][cols[k]]\n",
    "        print rows[k]\n",
    "        print cols[k]\n",
    "        used_sentences.append(rows[k])\n",
    "        used_sentences.append(cols[k])\n",
    "    elif toprint==0:\n",
    "        break\n",
    "        "
   ]
  },
  {
   "cell_type": "markdown",
   "metadata": {},
   "source": [
    "### Print pairs of dissimilar sentences based on tfidf features"
   ]
  },
  {
   "cell_type": "code",
   "execution_count": 45,
   "metadata": {},
   "outputs": [
    {
     "name": "stdout",
     "output_type": "stream",
     "text": [
      "A very dissimilar pair:\n",
      "33 F.3d 774, 777 (7th Cir.1994).\n",
      "App.\n",
      "A very dissimilar pair:\n",
      "33 F.3d 774, 777 (7th Cir.1994).\n",
      "750, 763 , 64 S. E. 807 ; Royal Indemnity Co. v. Schwartz (Tex. Civ.\n",
      "A very dissimilar pair:\n",
      "33 F.3d 774, 777 (7th Cir.1994).\n",
      "App.\n"
     ]
    }
   ],
   "source": [
    "toprint=3\n",
    "used_sentences=[]\n",
    "for k in range(0, len(a_sorted)):\n",
    "    if toprint>0:\n",
    "        toprint-=1\n",
    "        print \"A very dissimilar pair:\"\n",
    "        print df_sent['sents'][rows[len(a_sorted)-k-1]]\n",
    "        print df_sent['sents'][cols[len(a_sorted)-k-1]]\n",
    "        used_sentences.append(rows[len(a_sorted)-k-1])\n",
    "        used_sentences.append(cols[len(a_sorted)-k-1])\n",
    "    elif toprint==0:\n",
    "        break"
   ]
  },
  {
   "cell_type": "markdown",
   "metadata": {},
   "source": [
    "### Use k-means clustering to assign the sentences into 20 clusters."
   ]
  },
  {
   "cell_type": "code",
   "execution_count": 39,
   "metadata": {},
   "outputs": [],
   "source": [
    "from sklearn.cluster import KMeans\n",
    "num_clusters = 20\n",
    "km = KMeans(n_clusters=num_clusters,n_jobs=-1)\n",
    "km.fit(X)\n",
    "\n",
    "doc_clusters = km.labels_.tolist()\n",
    "df_sent['cluster'] = doc_clusters"
   ]
  },
  {
   "cell_type": "markdown",
   "metadata": {},
   "source": [
    "### List 5 sentences from each cluster"
   ]
  },
  {
   "cell_type": "code",
   "execution_count": 40,
   "metadata": {},
   "outputs": [
    {
     "name": "stdout",
     "output_type": "stream",
     "text": [
      "Cluster number:0\n",
      "0                                          PER CURIAM.\n",
      "1       McCarver was a (so-called) narcotic inspector.\n",
      "3    An assault by one upon the other, and an affra...\n",
      "4    McCarver was indicted, the fact issue as to in...\n",
      "5    The only exception taken was to part of the ch...\n",
      "Name: sents, dtype: object\n",
      "Cluster number:1\n",
      "5014    To ensure equality, the state calculates the m...\n",
      "5015    15-947 , and then pays the difference between ...\n",
      "5019    The revenue control limit, and hence the distr...\n",
      "5020    15-945 , and \"base support\" funds, see ARIZ.RE...\n",
      "5028                                   See ARIZ.REV.STAT.\n",
      "Name: sents, dtype: object\n",
      "Cluster number:2\n",
      "757     On Jan. 10, 1949, discharge was sought by habe...\n",
      "810     The district court on habeas corpus properly r...\n",
      "824     This remedy is much better adapted to reach ju...\n",
      "942     If then the Security Bank case is not an autho...\n",
      "1010    We think the District Court was correct in ove...\n",
      "Name: sents, dtype: object\n",
      "Cluster number:3\n",
      "3412    In the interim, the Supreme Court decided Gome...\n",
      "3443                                  109 S.Ct. at 2239 .\n",
      "3451                                  109 S.Ct. at 2245 .\n",
      "3459                                  109 S.Ct. at 2247 .\n",
      "3466                                  109 S.Ct. at 2248 .\n",
      "Name: sents, dtype: object\n",
      "Cluster number:4\n",
      "1598                                  60 , 1 L.Ed.2d 56 .\n",
      "1955    84 , 2 L.Ed.2d 63 , and Wooton v. United State...\n",
      "1991    1245 , 2 L.Ed.2d 1503 (1958), and consequently...\n",
      "2013                          763 , 3 L.Ed.2d 800 (1959).\n",
      "2015                         1563 , 6 L.Ed.2d 940 (1961).\n",
      "Name: sents, dtype: object\n",
      "Cluster number:5\n",
      "14      HICKENLOOPER , Circuit Judge.\n",
      "76             BRYAN , Circuit Judge.\n",
      "207         SAWTELLE , Circuit Judge.\n",
      "239             SWAN , Circuit Judge.\n",
      "429         PHILLIPS , Circuit Judge.\n",
      "Name: sents, dtype: object\n",
      "Cluster number:6\n",
      "2      A prisoner taken by the Detroit police in a ra...\n",
      "15     John F. Guenther, plaintiff below, recovered j...\n",
      "71     The fact that the territory covered by the pol...\n",
      "149    The appellee is a foreign corporation having n...\n",
      "150    In the year 1927, the United States government...\n",
      "Name: sents, dtype: object\n",
      "Cluster number:7\n",
      "229     If the receiver in the instant case may carry ...\n",
      "301     The petitioners argue that they should not be ...\n",
      "2158    Military law and state law both exist substant...\n",
      "2798    The FELA cases were negligence actions in whic...\n",
      "2871    Plaintiff moved to remand the action to state ...\n",
      "Name: sents, dtype: object\n",
      "Cluster number:8\n",
      "4407    The first involves Case No. 94-1617, a 1996 ap...\n",
      "4413    (hereinafter referred to as the \"parental righ...\n",
      "4696                           The Parental Rights Appeal\n",
      "4697    The remaining issue concerns the fees related ...\n",
      "4701    Plaintiffs were prompted by defendants' notice...\n",
      "Name: sents, dtype: object\n",
      "Cluster number:9\n",
      "2373    Prior to the recent Supreme Court decision in ...\n",
      "2744    As an initial matter, we are unable to agree w...\n",
      "3483    The Supreme Court, although its decision was, ...\n",
      "3546    We therefore hold that France did not waive he...\n",
      "4348    These four appeals primarily concern attorney ...\n",
      "Name: sents, dtype: object\n",
      "Cluster number:10\n",
      "1935    Contingent property interests are, of course, ...\n",
      "2077    \" It should first be emphasized that 1442 , li...\n",
      "2084    In this respect, the removal statutes parallel...\n",
      "2116    In the case at bar, the trial court erroneousl...\n",
      "2122    The doctrine of official immunity stems from a...\n",
      "Name: sents, dtype: object\n",
      "Cluster number:11\n",
      "3356    San Antonio Independent School District v. Rod...\n",
      "3385    See also Mount Healthy City School District Bo...\n",
      "4284    This case presents the question of when a scho...\n",
      "4290    Based on those cases, we affirm summary judgme...\n",
      "4302    Doe agrees with the school district that \"ther...\n",
      "Name: sents, dtype: object\n",
      "Cluster number:12\n",
      "2408    This should be a fair award based on the guide...\n",
      "2507    They claimed a continuing violation on the bas...\n",
      "2516    When the alleged unfair employment practice cu...\n",
      "2543    Arguably, the source for the continuing violat...\n",
      "2549    These employees were properly included in the ...\n",
      "Name: sents, dtype: object\n",
      "Cluster number:13\n",
      "57     It is earnestly contended that the Supreme Cou...\n",
      "127    It is true that in Covington v. S. A. L. R. Co...\n",
      "136    That appellee, upon evidence adduced by appell...\n",
      "172    In State v. City of Trenton , 40 N. J. Law, 89...\n",
      "322    None of the Labor Board cases decided by the S...\n",
      "Name: sents, dtype: object\n",
      "Cluster number:14\n",
      "2415                                     (7th Cir. 1978).\n",
      "2482    As this court stated in Sprogis v. United Air ...\n",
      "2506    In Cox v. United States Gypsum , 409 F.2d 289 ...\n",
      "2513                               (7th Cir. 1971), cert.\n",
      "2517    In Terry v. Bridgeport Brass Co. , 519 F.2d 80...\n",
      "Name: sents, dtype: object\n",
      "Cluster number:15\n",
      "3151    A number of county school boards, superintende...\n",
      "3155    In its western expansion, the United States en...\n",
      "3167                Hence the term, \"school lands trust.\"\n",
      "3189    Under this Treaty, all of the Chickasaw Cessio...\n",
      "3196    To remedy this deficiency, Congress, in 1836, ...\n",
      "Name: sents, dtype: object\n",
      "Cluster number:16\n",
      "935     Bank , 340 U.S. 47 , 71 S.Ct. 111, 113 , 95 L.Ed.\n",
      "1334                                       857 , 95 L.Ed.\n",
      "1336    223 , 95 L.Ed. 170 ; and also the opinion of C...\n",
      "1570    456 , 95 L.Ed. 456 , and whether the Board has...\n",
      "1628                                734 , 95 L.Ed. 1350 .\n",
      "Name: sents, dtype: object\n",
      "Cluster number:17\n",
      "1440    The United States filed motions for summary ju...\n",
      "2055    This is an appeal from an order granting a mot...\n",
      "2066    The appellees then filed a motion for summary ...\n",
      "2067    Appellant filed a verified opposition to the m...\n",
      "2071    The secondary issue is whether the trial court...\n",
      "Name: sents, dtype: object\n",
      "Cluster number:18\n",
      "4966    ELL students and parents in Nogales (we refer ...\n",
      "5005    The rest of the EEOA violations originally all...\n",
      "5038    ELL students, for example, naturally require a...\n",
      "5039    Arizona's funding formula provides for these i...\n",
      "5042    In 2006-07, for instance, the Group B weight f...\n",
      "Name: sents, dtype: object\n",
      "Cluster number:19\n",
      "2457    In Rosenfeld v. Southern Pacific Co. , 444 F.2...\n",
      "2542    2415 , 44 L.Ed.2d 679 (1975); Terry v. Bridgep...\n",
      "2963    See, e.g. , Olguin v. Inspiration Consolidated...\n",
      "3070    United States v. Weiss , 642 F.2d 296, 299 (9t...\n",
      "3071    ( Weiss ); see also United States v. Goldfield...\n",
      "Name: sents, dtype: object\n"
     ]
    }
   ],
   "source": [
    "for c in range(0, 20):\n",
    "    print \"Cluster number:\" + str(c)\n",
    "    print df_sent[df_sent['cluster']==c]['sents'][0:5]\n"
   ]
  }
 ],
 "metadata": {
  "kernelspec": {
   "display_name": "Python 2",
   "language": "python",
   "name": "python2"
  },
  "language_info": {
   "codemirror_mode": {
    "name": "ipython",
    "version": 2
   },
   "file_extension": ".py",
   "mimetype": "text/x-python",
   "name": "python",
   "nbconvert_exporter": "python",
   "pygments_lexer": "ipython2",
   "version": "2.7.12"
  }
 },
 "nbformat": 4,
 "nbformat_minor": 2
}
